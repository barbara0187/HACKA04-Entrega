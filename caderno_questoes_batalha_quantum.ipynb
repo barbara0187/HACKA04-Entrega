{
 "cells": [
  {
   "cell_type": "markdown",
   "metadata": {},
   "source": [
    "![image](figuras/batalha-quantum.png)\n",
    "\n",
    "# Batalha de dados {Quantum} Itaú 2023\n",
    "\n",
    "## Desafio: Otimização de portfólio\n",
    "\n",
    "### Grupo 04\n",
    "\n",
    "* Adriano de Araújo Borges\n",
    "* Gabriel Pires Aquino de Carvalho\n",
    "* Yara Rodrigues Inácio\n",
    "* André Alves de Aguiar\n",
    "* Bárbara Abigail Ferreira Ribeiro"
   ]
  },
  {
   "cell_type": "markdown",
   "metadata": {},
   "source": [
    "# Entregáveis\n",
    "\n",
    "Ao final da batalha, a entrega do grupo deverá contemplar os seguintes pontos:\n",
    "\n",
    "1. Solução clássica do problema.\n",
    "    * Construção dos vínculos.\n",
    "    * Tempo de execução.\n",
    "    * Valor da função objetiva.\n",
    "    * Não violação das restrições.\n",
    "2. Solução quântica do problema.\n",
    "    * Profundidade do circuito.\n",
    "    * Quantidade de parâmetros.\n",
    "    * Potencial de escabilidade da solução (como o algoritmo escala com o aumento do número de produtos).\n",
    "    * Poderão ser exploradas técnicas de mitigação de erro.\n",
    "    * Justificativa da escolha do hardware.\n",
    "    * Resultados em hardware real apontando a resposta correta com a maior probabilidade possível.\n",
    "    * Comparação entre os algoritmos explorados (`QAOA`, `VQE` ou outros).\n",
    "    * Os grupos que resolverem os 3 cenários do problema quântico (fácil, médio e difícil), terão um diferencial na pontuação.\n",
    "3. Os três finalistas, deverão preparar uma apresentação justificando a solução apresentada (com duração máxima de 10 minutos).\n",
    "    * Explicação do resultado clássico (Valor da função objetiva, tempo de execução, estratégias utilizadas, solver e etc).\n",
    "    * Algoritmos utilizados na solução quântica.\n",
    "    * Resultados obtidos (comparação entre diferentes algoritmos).\n",
    "    * Resultados obtidos em hardwares quânticos (comentar sobre os desafios).\n",
    "    * Escalabilidade da solução e possíveis próximos passos.\n",
    "    * Se o grupo tivesse mais tempo, o que mais poderia ter sido explorado?\n",
    "\n",
    "Observação: A criatividade e qualidade da solução terão um impacto positivo na classificação final.\n",
    "\n",
    "## Regras\n",
    "\n",
    "1. As soluções clássicas e quânticas são independentes e possuem pontuações diferentes.\n",
    "2. A solução quântica, poderá ser implementada utilizando um dos algoritmos abaixo:\n",
    "    * `VQE`\n",
    "        * É permitida a utilização do módulo `VQE` do Qiskit.\n",
    "        * Haverá pontuação diferenciada para grupos que decidirem não utilizar o `VQE` caixa preta e construir toda a solução open box.\n",
    "        * Independente do método escolhido, a solução com maior impacto para o case será levada em consideração.\n",
    "        * A construção do ansatz poderá ser feita usando os métodos `TwoLocal`, `NLocal` ou customizada a partir de um circuito quântico construído pelo grupo.\n",
    "        * Haverá pontuação diferenciada para grupos que decidirem não utilizar os módulos prontos (`TwoLocal` e `NLocal`).\n",
    "    * `QAOA`\n",
    "        * É permitida a utilização do módulo `QAOA` ou `QAOAAnsatz` do Qiskit, se o estado inicial e o mixer forem customizados pelo grupo.\n",
    "        * Haverá pontuação diferenciada para grupos que decidirem não utilizar o `QAOA` caixa preta e construir toda a solução open box.\n",
    "        * Independente do método escolhido, a solução com maior impacto para o case será levada em consideração.\n",
    "        * A construção do ansatz deverá ser feita a partir de um circuito quântico construído pelo grupo.\n",
    "        * A construção do mixer deverá ser feita a partir de um circuito quântico construído pelo grupo.\n",
    "        * Haverá pontuação diferenciada para grupos que construírem o circuito que implementa a Hamiltoniana do problema.\n",
    "    * Outros algoritmos\n",
    "        * O grupo poderá apresentar como solução um algoritmo diferente do `QAOA`/`VQE`.\n",
    "        * O grupo deverá justificar os benefícios da nova solução comparando com os algoritmos base (`QAOA` e `VQE`).\n",
    "        * Haverá pontuação diferenciada para os grupos que escolherem essa abordagem.\n",
    "\n",
    "Em caso de dúvidas, pergunte aos mentores."
   ]
  },
  {
   "cell_type": "markdown",
   "metadata": {},
   "source": [
    "# Materiais de apoio\n",
    "\n",
    "## Workshops\n",
    "* Workshop dia 1\n",
    "    * Video: https://www.youtube.com/watch?v=8OmpEYCVsCw&t=6s\n",
    "    * Notebook: https://github.com/taleslimaf/Itau-Data-Meetup-25-Otimizacao/blob/main/Introdu%C3%A7%C3%A3o_%C3%A0_Otimiza%C3%A7%C3%A3o.ipynb\n",
    "* Workshop dia 2\n",
    "    * Video: https://www.youtube.com/watch?v=csAtWEDwlV8&t=2s\n",
    "    * Notebook: https://github.com/marcelogarcia82/Itau-Data-Meetup-25-IntroducaoComputacaoQuantica/blob/main/Dia_02_Marcelo_Workshop_Quantum.ipynb\n",
    "* Workshop dia 3\n",
    "    * Video: https://www.youtube.com/watch?v=lCFWGzFeNUM&t=49s\n",
    "    * Notebook: https://github.com/jvscursulim/itau_data_meetup27_algoritmos_quanticos_hibridos\n",
    "* Workshop dia 4\n",
    "    * Video: https://www.youtube.com/watch?v=AB50b3lJXms&t=2s\n",
    "    * Notebook: https://github.com/andre-juan/itau_data_meetup_28_hardwares_quanticos/blob/main/Dia_04_Andr%C3%A9_Juan_workshop_quantum_hardware.ipynb\n",
    "\n",
    "## Outros materiais:\n",
    "* Qiskit Textbook: https://qiskit.org/textbook/content/ch-ex/\n",
    "* Documentação Qiskit: https://docs.quantum.ibm.com/\n",
    "* Documentação Scipy Optimize Minimize: https://docs.scipy.org/doc/scipy/reference/generated/scipy.optimize.minimize.html\n",
    "* Documentação CVXPY: https://www.cvxpy.org/\n",
    "\n",
    "# Orientações\n",
    "\n",
    "As funções `prepara_amostra_problema`, `carrega_problema_qubo` e `gera_relatorio` são funções criadas para auxiliar vocês no desenvolvimento. A função `prepara_amostra_problema` prepara uma amostra a partir da base de produtos dado uma seed, já a função `carrega_problema_qubo` prepara a formulação qubo do problema de acordo com a amostra gerada pela seed de input e por fim, a função `gera_relatório` espera uma seed e um `np.ndarray` binário que representa a resposta obtida após o processo de otimização, portanto ela deve ser usada para que vocês verifiquem suas respostas.\n",
    "\n",
    "## Exemplos de uso:\n",
    "\n",
    "* `prepara_amostra_problema`\n",
    "```python\n",
    "sample, cov_sample = prepara_amostra_problema(seed=42)\n",
    "```\n",
    "\n",
    "* `carrega_problema_qubo`\n",
    "```python\n",
    "qubo = carrega_problema_qubo(seed=42)\n",
    "```\n",
    "\n",
    "* `gera_relatorio`\n",
    "```python\n",
    "variaveis_resposta = np.array([0, 1, 1, 1, 0, 0])\n",
    "gera_relatorio(seed=42, variaveis_resposta=variaveis_resposta)\n",
    "```\n",
    "Observação: As variáveis resposta acima não refletem a solução para a seed 42, ela foi escolhida aleatóriamente apenas ser usada como no exemplo de como usar a função.\n",
    "\n",
    "Observação 2: O ordenamento das variáveis resposta (binária) deve ser mantido da seguinte maneira: `[produto1_classe1, produto2_classe1, produto1_classe2, produto2_classe2, produto1_classe3, produto2_classe3]` (seguindo a sequência apresentada no `DataFrame` dos dados fornecidos, como apresentado na célula de código abaixo)"
   ]
  },
  {
   "cell_type": "code",
   "execution_count": 1,
   "metadata": {},
   "outputs": [
    {
     "data": {
      "text/html": [
       "<div>\n",
       "<style scoped>\n",
       "    .dataframe tbody tr th:only-of-type {\n",
       "        vertical-align: middle;\n",
       "    }\n",
       "\n",
       "    .dataframe tbody tr th {\n",
       "        vertical-align: top;\n",
       "    }\n",
       "\n",
       "    .dataframe thead th {\n",
       "        text-align: right;\n",
       "    }\n",
       "</style>\n",
       "<table border=\"1\" class=\"dataframe\">\n",
       "  <thead>\n",
       "    <tr style=\"text-align: right;\">\n",
       "      <th></th>\n",
       "      <th>produto</th>\n",
       "      <th>classe</th>\n",
       "      <th>ret_med</th>\n",
       "      <th>aval</th>\n",
       "      <th>aloc</th>\n",
       "    </tr>\n",
       "  </thead>\n",
       "  <tbody>\n",
       "    <tr>\n",
       "      <th>49</th>\n",
       "      <td>produto_49</td>\n",
       "      <td>classe_1</td>\n",
       "      <td>0.030658</td>\n",
       "      <td>2</td>\n",
       "      <td>0.3</td>\n",
       "    </tr>\n",
       "    <tr>\n",
       "      <th>33</th>\n",
       "      <td>produto_33</td>\n",
       "      <td>classe_1</td>\n",
       "      <td>0.044948</td>\n",
       "      <td>1</td>\n",
       "      <td>0.3</td>\n",
       "    </tr>\n",
       "    <tr>\n",
       "      <th>82</th>\n",
       "      <td>produto_82</td>\n",
       "      <td>classe_2</td>\n",
       "      <td>0.036235</td>\n",
       "      <td>0</td>\n",
       "      <td>0.3</td>\n",
       "    </tr>\n",
       "    <tr>\n",
       "      <th>75</th>\n",
       "      <td>produto_75</td>\n",
       "      <td>classe_2</td>\n",
       "      <td>0.038913</td>\n",
       "      <td>0</td>\n",
       "      <td>0.3</td>\n",
       "    </tr>\n",
       "    <tr>\n",
       "      <th>107</th>\n",
       "      <td>produto_107</td>\n",
       "      <td>classe_3</td>\n",
       "      <td>0.093379</td>\n",
       "      <td>3</td>\n",
       "      <td>0.4</td>\n",
       "    </tr>\n",
       "    <tr>\n",
       "      <th>103</th>\n",
       "      <td>produto_103</td>\n",
       "      <td>classe_3</td>\n",
       "      <td>0.035152</td>\n",
       "      <td>2</td>\n",
       "      <td>0.4</td>\n",
       "    </tr>\n",
       "  </tbody>\n",
       "</table>\n",
       "</div>"
      ],
      "text/plain": [
       "         produto    classe   ret_med  aval  aloc\n",
       "49    produto_49  classe_1  0.030658     2   0.3\n",
       "33    produto_33  classe_1  0.044948     1   0.3\n",
       "82    produto_82  classe_2  0.036235     0   0.3\n",
       "75    produto_75  classe_2  0.038913     0   0.3\n",
       "107  produto_107  classe_3  0.093379     3   0.4\n",
       "103  produto_103  classe_3  0.035152     2   0.4"
      ]
     },
     "execution_count": 1,
     "metadata": {},
     "output_type": "execute_result"
    }
   ],
   "source": [
    "from utils import prepara_amostra_problema\n",
    "\n",
    "sample, _ = prepara_amostra_problema(seed=42)\n",
    "sample"
   ]
  },
  {
   "cell_type": "markdown",
   "metadata": {},
   "source": [
    "## Comentários sobre a versão quântica\n",
    "\n",
    "* Através da função `carrega_problema_qubo`, vocês conseguem obter o problema formulado acima no formalismo para os cenários das seeds, para usar nos algoritmos quânticos vocês só precisarão converter para Ising.\n",
    "* É permitido usar as versões caixa preta do `VQE` e `QAOA` presentes no Qiskit apenas para testes. A solução final não poderá conter os módulos caixa preta `VQE`, `QAOA` e o `QAOAAnsatz` (em caso de dúvidas consulte as regras ou pergunte aos mentores)\n",
    "* Se forem usar o `QAOA`, vocês tem a liberdade de alterar o estado inicial ($\\phi_0$) e a Hamiltoniana do mixer, abaixo segue uma figura que exemplifica as camadas do circuito. Obs: É importante ressaltar que seu circuito pode ter várias aplicações da Hamiltoniana do problema e da Hamiltoniana do mixer, sendo assim a figura abaixo com apenas 1 aplicações de ambos serve apenas como ilustração do formato do circuito.\n",
    "![image](figuras/exemplo_circuito_qaoa.png)"
   ]
  },
  {
   "cell_type": "markdown",
   "metadata": {
    "ExecuteTime": {
     "end_time": "2023-10-18T11:42:56.739295Z",
     "start_time": "2023-10-18T11:42:56.736219Z"
    }
   },
   "source": [
    "# Bibliotecas"
   ]
  },
  {
   "cell_type": "code",
   "execution_count": 2,
   "metadata": {
    "ExecuteTime": {
     "end_time": "2023-11-30T01:09:44.984238Z",
     "start_time": "2023-11-30T01:09:40.926247Z"
    },
    "tags": []
   },
   "outputs": [
    {
     "name": "stderr",
     "output_type": "stream",
     "text": [
      "/tmp/ipykernel_5405/2007525323.py:47: DeprecationWarning: The package qiskit_ibm_provider is being deprecated. Please see https://docs.quantum.ibm.com/api/migration-guides/qiskit-runtime to get instructions on how to migrate to qiskit-ibm-runtime (https://github.com/Qiskit/qiskit-ibm-runtime).\n",
      "  from qiskit_ibm_provider import IBMProvider, least_busy\n"
     ]
    }
   ],
   "source": [
    "# imports das bibliotecas\n",
    "\n",
    "import cvxpy as cp\n",
    "import matplotlib.pyplot as plt\n",
    "import numpy as np\n",
    "import pandas as pd\n",
    "import plotly.graph_objects as go\n",
    "import plotly.express as px\n",
    "import scipy\n",
    "import seaborn as sns\n",
    "\n",
    "from qiskit import execute\n",
    "from qiskit.circuit import ClassicalRegister, QuantumCircuit, QuantumRegister, ParameterVector\n",
    "from qiskit.circuit.library import TwoLocal, NLocal, QAOAAnsatz\n",
    "from qiskit.primitives import BackendSampler, BackendEstimator\n",
    "from qiskit.providers.fake_provider import FakeCairoV2\n",
    "from qiskit.visualization import plot_histogram, plot_distribution, plot_gate_map\n",
    "from qiskit.quantum_info import SparsePauliOp\n",
    "from qiskit_aer import Aer, AerSimulator\n",
    "from qiskit_aer.noise import NoiseModel\n",
    "from qiskit_algorithms.minimum_eigensolvers import NumPyMinimumEigensolver, VQE, QAOA\n",
    "from qiskit_algorithms.optimizers import (ADAM,\n",
    "                                          AQGD,\n",
    "                                          BOBYQA,\n",
    "                                          CG, \n",
    "                                          COBYLA,\n",
    "                                          GradientDescent,\n",
    "                                          L_BFGS_B,\n",
    "                                          P_BFGS,\n",
    "                                          POWELL,\n",
    "                                          TNC,\n",
    "                                          SPSA,\n",
    "                                          QNSPSA,\n",
    "                                          SLSQP,\n",
    "                                          UMDA,\n",
    "                                          ESCH,\n",
    "                                          DIRECT_L,\n",
    "                                          DIRECT_L_RAND,\n",
    "                                          GSLS,\n",
    "                                          NELDER_MEAD,\n",
    "                                          CRS,\n",
    "                                          NFT,\n",
    "                                          SNOBFIT,\n",
    "                                          ISRES,\n",
    "                                          IMFIL\n",
    "                                          )\n",
    "from qiskit_ibm_provider import IBMProvider, least_busy\n",
    "from qiskit_ibm_runtime import QiskitRuntimeService, Session, Estimator, Options\n",
    "\n",
    "from utils import carrega_problema_qubo, gera_relatorio, prepara_amostra_problema"
   ]
  },
  {
   "cell_type": "markdown",
   "metadata": {},
   "source": [
    "Na célula de código abaixo vocês irão inserir o token de acesso a API da IBM Quantum que será fornecido pela organização"
   ]
  },
  {
   "cell_type": "code",
   "execution_count": 3,
   "metadata": {},
   "outputs": [],
   "source": [
    "token = \"b82277513746196098b949d472c9becd9b7202c237030050780eaafa0e27cc592d8b0a93da322976dfb126267fa818e8bc98a7d2590ec2c7f9c9ae451e2b8163\"\n",
    "\n",
    "IBMProvider.save_account(token=token, overwrite=True)"
   ]
  },
  {
   "cell_type": "markdown",
   "metadata": {},
   "source": [
    "Para escolher o hardware que o grupo vai usar para realizar inferência, vocês vão precisar preencher as informações de `hub`, `group`, `project` e `name`. As informações de `hub`, `group` e `project` devem ser preenchidas com os dados fornecidos pela organização, enquanto que o `name` vocês terão a liberdade para escolher entre os seguintes hardwares e simuladores:\n",
    "\n",
    "Hardwares quânticos\n",
    "* `ibm_algiers`\n",
    "* `ibm_cairo`\n",
    "* `ibm_hanoi`\n",
    "* `ibmq_kolkata`\n",
    "* `ibmq_mumbai`\n",
    "\n",
    "Simuladores\n",
    "* `ibmq_qasm_simulator`\n",
    "* `simulator_mps`"
   ]
  },
  {
   "cell_type": "code",
   "execution_count": 4,
   "metadata": {},
   "outputs": [
    {
     "ename": "RequestsApiError",
     "evalue": "'401 Client Error: Unauthorized for url: https://auth.quantum-computing.ibm.com/api/users/loginWithToken. Login failed., Error code: 3446.'",
     "output_type": "error",
     "traceback": [
      "\u001b[0;31m---------------------------------------------------------------------------\u001b[0m",
      "\u001b[0;31mHTTPError\u001b[0m                                 Traceback (most recent call last)",
      "File \u001b[0;32m~/anaconda3/envs/batalhaitau/lib/python3.11/site-packages/qiskit_ibm_provider/api/session.py:264\u001b[0m, in \u001b[0;36mRetrySession.request\u001b[0;34m(self, method, url, bare, **kwargs)\u001b[0m\n\u001b[1;32m    263\u001b[0m     response \u001b[38;5;241m=\u001b[39m \u001b[38;5;28msuper\u001b[39m()\u001b[38;5;241m.\u001b[39mrequest(method, final_url, headers\u001b[38;5;241m=\u001b[39mheaders, \u001b[38;5;241m*\u001b[39m\u001b[38;5;241m*\u001b[39mkwargs)\n\u001b[0;32m--> 264\u001b[0m     response\u001b[38;5;241m.\u001b[39mraise_for_status()\n\u001b[1;32m    265\u001b[0m \u001b[38;5;28;01mexcept\u001b[39;00m RequestException \u001b[38;5;28;01mas\u001b[39;00m ex:\n\u001b[1;32m    266\u001b[0m     \u001b[38;5;66;03m# Wrap the requests exceptions into a IBM Q custom one, for\u001b[39;00m\n\u001b[1;32m    267\u001b[0m     \u001b[38;5;66;03m# compatibility.\u001b[39;00m\n",
      "File \u001b[0;32m~/anaconda3/envs/batalhaitau/lib/python3.11/site-packages/requests/models.py:1021\u001b[0m, in \u001b[0;36mResponse.raise_for_status\u001b[0;34m(self)\u001b[0m\n\u001b[1;32m   1020\u001b[0m \u001b[38;5;28;01mif\u001b[39;00m http_error_msg:\n\u001b[0;32m-> 1021\u001b[0m     \u001b[38;5;28;01mraise\u001b[39;00m HTTPError(http_error_msg, response\u001b[38;5;241m=\u001b[39m\u001b[38;5;28mself\u001b[39m)\n",
      "\u001b[0;31mHTTPError\u001b[0m: 401 Client Error: Unauthorized for url: https://auth.quantum-computing.ibm.com/api/users/loginWithToken",
      "\nThe above exception was the direct cause of the following exception:\n",
      "\u001b[0;31mRequestsApiError\u001b[0m                          Traceback (most recent call last)",
      "Cell \u001b[0;32mIn[4], line 5\u001b[0m\n\u001b[1;32m      2\u001b[0m project \u001b[38;5;241m=\u001b[39m \u001b[38;5;124m\"\u001b[39m\u001b[38;5;124mquantum\u001b[39m\u001b[38;5;124m\"\u001b[39m\u001b[38;5;241m+\u001b[39mnumero_do_grupo\n\u001b[1;32m      3\u001b[0m name \u001b[38;5;241m=\u001b[39m \u001b[38;5;124m\"\u001b[39m\u001b[38;5;124mibmq_qasm_simulator\u001b[39m\u001b[38;5;124m\"\u001b[39m\n\u001b[0;32m----> 5\u001b[0m provider \u001b[38;5;241m=\u001b[39m IBMProvider(instance\u001b[38;5;241m=\u001b[39m\u001b[38;5;124mf\u001b[39m\u001b[38;5;124m\"\u001b[39m\u001b[38;5;124mitau-unibanco/batalha-de-quant/\u001b[39m\u001b[38;5;132;01m{\u001b[39;00mproject\u001b[38;5;132;01m}\u001b[39;00m\u001b[38;5;124m\"\u001b[39m)\n\u001b[1;32m      6\u001b[0m hardware \u001b[38;5;241m=\u001b[39m provider\u001b[38;5;241m.\u001b[39mget_backend(name\u001b[38;5;241m=\u001b[39mname)\n\u001b[1;32m      7\u001b[0m service \u001b[38;5;241m=\u001b[39m QiskitRuntimeService(instance\u001b[38;5;241m=\u001b[39m\u001b[38;5;124mf\u001b[39m\u001b[38;5;124m\"\u001b[39m\u001b[38;5;124mitau-unibanco/batalha-de-quant/\u001b[39m\u001b[38;5;132;01m{\u001b[39;00mproject\u001b[38;5;132;01m}\u001b[39;00m\u001b[38;5;124m\"\u001b[39m)\n",
      "File \u001b[0;32m~/anaconda3/envs/batalhaitau/lib/python3.11/site-packages/qiskit_ibm_provider/ibm_provider.py:178\u001b[0m, in \u001b[0;36mIBMProvider.__init__\u001b[0;34m(self, token, url, name, instance, proxies, verify)\u001b[0m\n\u001b[1;32m    162\u001b[0m \u001b[38;5;28mself\u001b[39m\u001b[38;5;241m.\u001b[39m_account \u001b[38;5;241m=\u001b[39m \u001b[38;5;28mself\u001b[39m\u001b[38;5;241m.\u001b[39m_discover_account(\n\u001b[1;32m    163\u001b[0m     token\u001b[38;5;241m=\u001b[39mtoken,\n\u001b[1;32m    164\u001b[0m     url\u001b[38;5;241m=\u001b[39murl,\n\u001b[0;32m   (...)\u001b[0m\n\u001b[1;32m    168\u001b[0m     verify\u001b[38;5;241m=\u001b[39mverify,\n\u001b[1;32m    169\u001b[0m )\n\u001b[1;32m    171\u001b[0m \u001b[38;5;28mself\u001b[39m\u001b[38;5;241m.\u001b[39m_client_params \u001b[38;5;241m=\u001b[39m ClientParameters(\n\u001b[1;32m    172\u001b[0m     token\u001b[38;5;241m=\u001b[39m\u001b[38;5;28mself\u001b[39m\u001b[38;5;241m.\u001b[39m_account\u001b[38;5;241m.\u001b[39mtoken,\n\u001b[1;32m    173\u001b[0m     url\u001b[38;5;241m=\u001b[39m\u001b[38;5;28mself\u001b[39m\u001b[38;5;241m.\u001b[39m_account\u001b[38;5;241m.\u001b[39murl,\n\u001b[0;32m   (...)\u001b[0m\n\u001b[1;32m    176\u001b[0m     verify\u001b[38;5;241m=\u001b[39m\u001b[38;5;28mself\u001b[39m\u001b[38;5;241m.\u001b[39m_account\u001b[38;5;241m.\u001b[39mverify,\n\u001b[1;32m    177\u001b[0m )\n\u001b[0;32m--> 178\u001b[0m \u001b[38;5;28mself\u001b[39m\u001b[38;5;241m.\u001b[39m_auth_client \u001b[38;5;241m=\u001b[39m \u001b[38;5;28mself\u001b[39m\u001b[38;5;241m.\u001b[39m_authenticate_ibm_quantum_account(\u001b[38;5;28mself\u001b[39m\u001b[38;5;241m.\u001b[39m_client_params)\n\u001b[1;32m    179\u001b[0m \u001b[38;5;28mself\u001b[39m\u001b[38;5;241m.\u001b[39m_client_params\u001b[38;5;241m.\u001b[39murl \u001b[38;5;241m=\u001b[39m \u001b[38;5;28mself\u001b[39m\u001b[38;5;241m.\u001b[39m_auth_client\u001b[38;5;241m.\u001b[39mcurrent_service_urls()[\u001b[38;5;124m\"\u001b[39m\u001b[38;5;124mservices\u001b[39m\u001b[38;5;124m\"\u001b[39m][\n\u001b[1;32m    180\u001b[0m     \u001b[38;5;124m\"\u001b[39m\u001b[38;5;124mruntime\u001b[39m\u001b[38;5;124m\"\u001b[39m\n\u001b[1;32m    181\u001b[0m ]\n\u001b[1;32m    182\u001b[0m \u001b[38;5;28mself\u001b[39m\u001b[38;5;241m.\u001b[39m_client_params\u001b[38;5;241m.\u001b[39mtoken \u001b[38;5;241m=\u001b[39m \u001b[38;5;28mself\u001b[39m\u001b[38;5;241m.\u001b[39m_auth_client\u001b[38;5;241m.\u001b[39mcurrent_access_token()\n",
      "File \u001b[0;32m~/anaconda3/envs/batalhaitau/lib/python3.11/site-packages/qiskit_ibm_provider/ibm_provider.py:331\u001b[0m, in \u001b[0;36mIBMProvider._authenticate_ibm_quantum_account\u001b[0;34m(self, client_params)\u001b[0m\n\u001b[1;32m    324\u001b[0m \u001b[38;5;28;01mif\u001b[39;00m \u001b[38;5;129;01mnot\u001b[39;00m version_info[\u001b[38;5;124m\"\u001b[39m\u001b[38;5;124mnew_api\u001b[39m\u001b[38;5;124m\"\u001b[39m] \u001b[38;5;129;01mor\u001b[39;00m \u001b[38;5;124m\"\u001b[39m\u001b[38;5;124mapi-auth\u001b[39m\u001b[38;5;124m\"\u001b[39m \u001b[38;5;129;01mnot\u001b[39;00m \u001b[38;5;129;01min\u001b[39;00m version_info:\n\u001b[1;32m    325\u001b[0m     \u001b[38;5;28;01mraise\u001b[39;00m IBMInputValueError(\n\u001b[1;32m    326\u001b[0m         \u001b[38;5;124m\"\u001b[39m\u001b[38;5;124mThe URL specified (\u001b[39m\u001b[38;5;132;01m{}\u001b[39;00m\u001b[38;5;124m) is not an IBM Quantum authentication URL. \u001b[39m\u001b[38;5;124m\"\u001b[39m\n\u001b[1;32m    327\u001b[0m         \u001b[38;5;124m\"\u001b[39m\u001b[38;5;124mValid authentication URL: \u001b[39m\u001b[38;5;132;01m{}\u001b[39;00m\u001b[38;5;124m.\u001b[39m\u001b[38;5;124m\"\u001b[39m\u001b[38;5;241m.\u001b[39mformat(\n\u001b[1;32m    328\u001b[0m             client_params\u001b[38;5;241m.\u001b[39murl, QISKIT_IBM_API_URL\n\u001b[1;32m    329\u001b[0m         )\n\u001b[1;32m    330\u001b[0m     )\n\u001b[0;32m--> 331\u001b[0m \u001b[38;5;28;01mreturn\u001b[39;00m AuthClient(client_params)\n",
      "File \u001b[0;32m~/anaconda3/envs/batalhaitau/lib/python3.11/site-packages/qiskit_ibm_provider/api/clients/auth.py:43\u001b[0m, in \u001b[0;36mAuthClient.__init__\u001b[0;34m(self, client_params)\u001b[0m\n\u001b[1;32m     38\u001b[0m \u001b[38;5;28mself\u001b[39m\u001b[38;5;241m.\u001b[39m_service_urls \u001b[38;5;241m=\u001b[39m {}  \u001b[38;5;66;03m# type: ignore[var-annotated]\u001b[39;00m\n\u001b[1;32m     40\u001b[0m \u001b[38;5;28mself\u001b[39m\u001b[38;5;241m.\u001b[39mauth_api \u001b[38;5;241m=\u001b[39m Api(\n\u001b[1;32m     41\u001b[0m     RetrySession(\u001b[38;5;28mself\u001b[39m\u001b[38;5;241m.\u001b[39mauth_url, \u001b[38;5;241m*\u001b[39m\u001b[38;5;241m*\u001b[39mclient_params\u001b[38;5;241m.\u001b[39mconnection_parameters())\n\u001b[1;32m     42\u001b[0m )\n\u001b[0;32m---> 43\u001b[0m \u001b[38;5;28mself\u001b[39m\u001b[38;5;241m.\u001b[39mbase_api \u001b[38;5;241m=\u001b[39m \u001b[38;5;28mself\u001b[39m\u001b[38;5;241m.\u001b[39m_init_service_clients(\n\u001b[1;32m     44\u001b[0m     \u001b[38;5;241m*\u001b[39m\u001b[38;5;241m*\u001b[39mclient_params\u001b[38;5;241m.\u001b[39mconnection_parameters()\n\u001b[1;32m     45\u001b[0m )\n",
      "File \u001b[0;32m~/anaconda3/envs/batalhaitau/lib/python3.11/site-packages/qiskit_ibm_provider/api/clients/auth.py:57\u001b[0m, in \u001b[0;36mAuthClient._init_service_clients\u001b[0;34m(self, **request_kwargs)\u001b[0m\n\u001b[1;32m     48\u001b[0m \u001b[38;5;250m\u001b[39m\u001b[38;5;124;03m\"\"\"Initialize the clients used for communicating with the API.\u001b[39;00m\n\u001b[1;32m     49\u001b[0m \n\u001b[1;32m     50\u001b[0m \u001b[38;5;124;03mArgs:\u001b[39;00m\n\u001b[0;32m   (...)\u001b[0m\n\u001b[1;32m     54\u001b[0m \u001b[38;5;124;03m    Client for the API server.\u001b[39;00m\n\u001b[1;32m     55\u001b[0m \u001b[38;5;124;03m\"\"\"\u001b[39;00m\n\u001b[1;32m     56\u001b[0m \u001b[38;5;66;03m# Request an access token.\u001b[39;00m\n\u001b[0;32m---> 57\u001b[0m \u001b[38;5;28mself\u001b[39m\u001b[38;5;241m.\u001b[39maccess_token \u001b[38;5;241m=\u001b[39m \u001b[38;5;28mself\u001b[39m\u001b[38;5;241m.\u001b[39m_request_access_token()\n\u001b[1;32m     58\u001b[0m \u001b[38;5;28mself\u001b[39m\u001b[38;5;241m.\u001b[39mauth_api\u001b[38;5;241m.\u001b[39msession\u001b[38;5;241m.\u001b[39mauth \u001b[38;5;241m=\u001b[39m QuantumAuth(access_token\u001b[38;5;241m=\u001b[39m\u001b[38;5;28mself\u001b[39m\u001b[38;5;241m.\u001b[39maccess_token)\n\u001b[1;32m     59\u001b[0m \u001b[38;5;28mself\u001b[39m\u001b[38;5;241m.\u001b[39m_service_urls \u001b[38;5;241m=\u001b[39m \u001b[38;5;28mself\u001b[39m\u001b[38;5;241m.\u001b[39muser_urls()\n",
      "File \u001b[0;32m~/anaconda3/envs/batalhaitau/lib/python3.11/site-packages/qiskit_ibm_provider/api/clients/auth.py:83\u001b[0m, in \u001b[0;36mAuthClient._request_access_token\u001b[0;34m(self)\u001b[0m\n\u001b[1;32m     73\u001b[0m \u001b[38;5;250m\u001b[39m\u001b[38;5;124;03m\"\"\"Request a new access token from the API authentication service.\u001b[39;00m\n\u001b[1;32m     74\u001b[0m \n\u001b[1;32m     75\u001b[0m \u001b[38;5;124;03mReturns:\u001b[39;00m\n\u001b[0;32m   (...)\u001b[0m\n\u001b[1;32m     80\u001b[0m \u001b[38;5;124;03m    RequestsApiError: If the request failed.\u001b[39;00m\n\u001b[1;32m     81\u001b[0m \u001b[38;5;124;03m\"\"\"\u001b[39;00m\n\u001b[1;32m     82\u001b[0m \u001b[38;5;28;01mtry\u001b[39;00m:\n\u001b[0;32m---> 83\u001b[0m     response \u001b[38;5;241m=\u001b[39m \u001b[38;5;28mself\u001b[39m\u001b[38;5;241m.\u001b[39mauth_api\u001b[38;5;241m.\u001b[39mlogin(\u001b[38;5;28mself\u001b[39m\u001b[38;5;241m.\u001b[39mapi_token)\n\u001b[1;32m     84\u001b[0m     \u001b[38;5;28;01mreturn\u001b[39;00m response[\u001b[38;5;124m\"\u001b[39m\u001b[38;5;124mid\u001b[39m\u001b[38;5;124m\"\u001b[39m]\n\u001b[1;32m     85\u001b[0m \u001b[38;5;28;01mexcept\u001b[39;00m RequestsApiError \u001b[38;5;28;01mas\u001b[39;00m ex:\n\u001b[1;32m     86\u001b[0m     \u001b[38;5;66;03m# Get the original exception that raised.\u001b[39;00m\n",
      "File \u001b[0;32m~/anaconda3/envs/batalhaitau/lib/python3.11/site-packages/qiskit_ibm_provider/api/rest/root.py:96\u001b[0m, in \u001b[0;36mApi.login\u001b[0;34m(self, api_token)\u001b[0m\n\u001b[1;32m     87\u001b[0m \u001b[38;5;250m\u001b[39m\u001b[38;5;124;03m\"\"\"Login with token.\u001b[39;00m\n\u001b[1;32m     88\u001b[0m \n\u001b[1;32m     89\u001b[0m \u001b[38;5;124;03mArgs:\u001b[39;00m\n\u001b[0;32m   (...)\u001b[0m\n\u001b[1;32m     93\u001b[0m \u001b[38;5;124;03m    JSON response.\u001b[39;00m\n\u001b[1;32m     94\u001b[0m \u001b[38;5;124;03m\"\"\"\u001b[39;00m\n\u001b[1;32m     95\u001b[0m url \u001b[38;5;241m=\u001b[39m \u001b[38;5;28mself\u001b[39m\u001b[38;5;241m.\u001b[39mget_url(\u001b[38;5;124m\"\u001b[39m\u001b[38;5;124mlogin\u001b[39m\u001b[38;5;124m\"\u001b[39m)\n\u001b[0;32m---> 96\u001b[0m \u001b[38;5;28;01mreturn\u001b[39;00m \u001b[38;5;28mself\u001b[39m\u001b[38;5;241m.\u001b[39msession\u001b[38;5;241m.\u001b[39mpost(url, json\u001b[38;5;241m=\u001b[39m{\u001b[38;5;124m\"\u001b[39m\u001b[38;5;124mapiToken\u001b[39m\u001b[38;5;124m\"\u001b[39m: api_token})\u001b[38;5;241m.\u001b[39mjson()\n",
      "File \u001b[0;32m~/anaconda3/envs/batalhaitau/lib/python3.11/site-packages/requests/sessions.py:637\u001b[0m, in \u001b[0;36mSession.post\u001b[0;34m(self, url, data, json, **kwargs)\u001b[0m\n\u001b[1;32m    626\u001b[0m \u001b[38;5;28;01mdef\u001b[39;00m \u001b[38;5;21mpost\u001b[39m(\u001b[38;5;28mself\u001b[39m, url, data\u001b[38;5;241m=\u001b[39m\u001b[38;5;28;01mNone\u001b[39;00m, json\u001b[38;5;241m=\u001b[39m\u001b[38;5;28;01mNone\u001b[39;00m, \u001b[38;5;241m*\u001b[39m\u001b[38;5;241m*\u001b[39mkwargs):\n\u001b[1;32m    627\u001b[0m \u001b[38;5;250m    \u001b[39m\u001b[38;5;124mr\u001b[39m\u001b[38;5;124;03m\"\"\"Sends a POST request. Returns :class:`Response` object.\u001b[39;00m\n\u001b[1;32m    628\u001b[0m \n\u001b[1;32m    629\u001b[0m \u001b[38;5;124;03m    :param url: URL for the new :class:`Request` object.\u001b[39;00m\n\u001b[0;32m   (...)\u001b[0m\n\u001b[1;32m    634\u001b[0m \u001b[38;5;124;03m    :rtype: requests.Response\u001b[39;00m\n\u001b[1;32m    635\u001b[0m \u001b[38;5;124;03m    \"\"\"\u001b[39;00m\n\u001b[0;32m--> 637\u001b[0m     \u001b[38;5;28;01mreturn\u001b[39;00m \u001b[38;5;28mself\u001b[39m\u001b[38;5;241m.\u001b[39mrequest(\u001b[38;5;124m\"\u001b[39m\u001b[38;5;124mPOST\u001b[39m\u001b[38;5;124m\"\u001b[39m, url, data\u001b[38;5;241m=\u001b[39mdata, json\u001b[38;5;241m=\u001b[39mjson, \u001b[38;5;241m*\u001b[39m\u001b[38;5;241m*\u001b[39mkwargs)\n",
      "File \u001b[0;32m~/anaconda3/envs/batalhaitau/lib/python3.11/site-packages/qiskit_ibm_provider/api/session.py:285\u001b[0m, in \u001b[0;36mRetrySession.request\u001b[0;34m(self, method, url, bare, **kwargs)\u001b[0m\n\u001b[1;32m    281\u001b[0m         \u001b[38;5;28;01mexcept\u001b[39;00m \u001b[38;5;167;01mException\u001b[39;00m:  \u001b[38;5;66;03m# pylint: disable=broad-except\u001b[39;00m\n\u001b[1;32m    282\u001b[0m             \u001b[38;5;66;03m# the response did not contain the expected json.\u001b[39;00m\n\u001b[1;32m    283\u001b[0m             message \u001b[38;5;241m+\u001b[39m\u001b[38;5;241m=\u001b[39m \u001b[38;5;124mf\u001b[39m\u001b[38;5;124m\"\u001b[39m\u001b[38;5;124m. \u001b[39m\u001b[38;5;132;01m{\u001b[39;00mex\u001b[38;5;241m.\u001b[39mresponse\u001b[38;5;241m.\u001b[39mtext\u001b[38;5;132;01m}\u001b[39;00m\u001b[38;5;124m\"\u001b[39m\n\u001b[0;32m--> 285\u001b[0m     \u001b[38;5;28;01mraise\u001b[39;00m RequestsApiError(message, status_code) \u001b[38;5;28;01mfrom\u001b[39;00m \u001b[38;5;21;01mex\u001b[39;00m\n\u001b[1;32m    287\u001b[0m \u001b[38;5;28;01mreturn\u001b[39;00m response\n",
      "\u001b[0;31mRequestsApiError\u001b[0m: '401 Client Error: Unauthorized for url: https://auth.quantum-computing.ibm.com/api/users/loginWithToken. Login failed., Error code: 3446.'"
     ]
    }
   ],
   "source": [
    "numero_do_grupo = \"04\"\n",
    "project = \"quantum\"+numero_do_grupo\n",
    "name = \"ibmq_qasm_simulator\"\n",
    "\n",
    "provider = IBMProvider(instance=f\"itau-unibanco/batalha-de-quant/{project}\")\n",
    "hardware = provider.get_backend(name=name)\n",
    "service = QiskitRuntimeService(instance=f\"itau-unibanco/batalha-de-quant/{project}\")"
   ]
  },
  {
   "cell_type": "markdown",
   "metadata": {},
   "source": [
    "# Problema de otimização\n",
    "\n",
    "## Formulação quadrática\n",
    "\n",
    "$$\\begin{aligned}\n",
    "\\min_{x \\in \\{0, 1\\}^n}  x^T \\Sigma x - \\mu^T x\\\\\n",
    "\\text{subject to: } A x = L \\\\\n",
    "                    R^T x \\leq c\n",
    "\\end{aligned}$$\n",
    "\n",
    "\n",
    "\n",
    "- $x \\in \\{0, 1\\}^n$ vetor binário que indica se o ativo foi escolhido ($x[i] = 1$) ou não ($x[i] = 0$),\n",
    "- $\\mu \\in \\mathbb{R}^n$ retorno médio dos ativos (`lista_produto.ret_med`),\n",
    "- $\\Sigma \\in \\mathbb{R}^{n \\times n}$ matriz de coravariância (`matriz_de_covariancia`),\n",
    "- $A$ Matriz do vínculo que define quantidade de produtos por classe,\n",
    "- $L$ vetor com quantidade de produtos que devem ser selecionados de cada classe (`dict_quantidade_produtos`).\n",
    "- $R$ matriz que representa a avaliação de risco dos produtos (`lista_produto.aval`).\n",
    "- $c$ máximo risco permitido"
   ]
  },
  {
   "cell_type": "markdown",
   "metadata": {},
   "source": [
    "# Cenário clássico"
   ]
  },
  {
   "cell_type": "markdown",
   "metadata": {},
   "source": [
    "## Configurações\n",
    "\n",
    "### Observação: Favor não alterar nada na célula de código abaixo!"
   ]
  },
  {
   "cell_type": "code",
   "execution_count": 3,
   "metadata": {},
   "outputs": [],
   "source": [
    "import time"
   ]
  },
  {
   "cell_type": "code",
   "execution_count": 4,
   "metadata": {},
   "outputs": [],
   "source": [
    "lista_produtos = pd.read_csv(filepath_or_buffer=\"dados_batalha_classico.csv\", index_col=0)\n",
    "matriz_de_covariancia = pd.read_csv(filepath_or_buffer=\"covariancia_classico.csv\", index_col=0)\n",
    "\n",
    "dict_quantidade_produtos = {'classe_0': 5,\n",
    "                            'classe_1': 2,\n",
    "                            'classe_2': 3,\n",
    "                            'classe_3': 1,\n",
    "                            'classe_4': 1,\n",
    "                            'classe_5': 4,\n",
    "                            'classe_6': 2,\n",
    "                            'classe_7': 2,\n",
    "                            'classe_8': 1,\n",
    "                            'classe_9': 1}\n",
    "\n",
    "c = 50"
   ]
  },
  {
   "cell_type": "code",
   "execution_count": 5,
   "metadata": {},
   "outputs": [
    {
     "data": {
      "text/html": [
       "<div>\n",
       "<style scoped>\n",
       "    .dataframe tbody tr th:only-of-type {\n",
       "        vertical-align: middle;\n",
       "    }\n",
       "\n",
       "    .dataframe tbody tr th {\n",
       "        vertical-align: top;\n",
       "    }\n",
       "\n",
       "    .dataframe thead th {\n",
       "        text-align: right;\n",
       "    }\n",
       "</style>\n",
       "<table border=\"1\" class=\"dataframe\">\n",
       "  <thead>\n",
       "    <tr style=\"text-align: right;\">\n",
       "      <th></th>\n",
       "      <th>produto</th>\n",
       "      <th>classe</th>\n",
       "      <th>retorno</th>\n",
       "      <th>avaliacao_risco</th>\n",
       "      <th>aloc</th>\n",
       "      <th>ret_med</th>\n",
       "      <th>aval</th>\n",
       "    </tr>\n",
       "  </thead>\n",
       "  <tbody>\n",
       "    <tr>\n",
       "      <th>0</th>\n",
       "      <td>produto_0</td>\n",
       "      <td>classe_0</td>\n",
       "      <td>0.129244</td>\n",
       "      <td>23</td>\n",
       "      <td>0.04</td>\n",
       "      <td>0.005170</td>\n",
       "      <td>0.92</td>\n",
       "    </tr>\n",
       "    <tr>\n",
       "      <th>1</th>\n",
       "      <td>produto_1</td>\n",
       "      <td>classe_0</td>\n",
       "      <td>0.135872</td>\n",
       "      <td>12</td>\n",
       "      <td>0.04</td>\n",
       "      <td>0.005435</td>\n",
       "      <td>0.48</td>\n",
       "    </tr>\n",
       "    <tr>\n",
       "      <th>2</th>\n",
       "      <td>produto_2</td>\n",
       "      <td>classe_0</td>\n",
       "      <td>0.118227</td>\n",
       "      <td>5</td>\n",
       "      <td>0.04</td>\n",
       "      <td>0.004729</td>\n",
       "      <td>0.20</td>\n",
       "    </tr>\n",
       "    <tr>\n",
       "      <th>3</th>\n",
       "      <td>produto_3</td>\n",
       "      <td>classe_0</td>\n",
       "      <td>0.138654</td>\n",
       "      <td>37</td>\n",
       "      <td>0.04</td>\n",
       "      <td>0.005546</td>\n",
       "      <td>1.48</td>\n",
       "    </tr>\n",
       "    <tr>\n",
       "      <th>4</th>\n",
       "      <td>produto_4</td>\n",
       "      <td>classe_0</td>\n",
       "      <td>0.117790</td>\n",
       "      <td>4</td>\n",
       "      <td>0.04</td>\n",
       "      <td>0.004712</td>\n",
       "      <td>0.16</td>\n",
       "    </tr>\n",
       "  </tbody>\n",
       "</table>\n",
       "</div>"
      ],
      "text/plain": [
       "     produto    classe   retorno  avaliacao_risco  aloc   ret_med  aval\n",
       "0  produto_0  classe_0  0.129244               23  0.04  0.005170  0.92\n",
       "1  produto_1  classe_0  0.135872               12  0.04  0.005435  0.48\n",
       "2  produto_2  classe_0  0.118227                5  0.04  0.004729  0.20\n",
       "3  produto_3  classe_0  0.138654               37  0.04  0.005546  1.48\n",
       "4  produto_4  classe_0  0.117790                4  0.04  0.004712  0.16"
      ]
     },
     "execution_count": 5,
     "metadata": {},
     "output_type": "execute_result"
    }
   ],
   "source": [
    "lista_produtos.head()"
   ]
  },
  {
   "cell_type": "code",
   "execution_count": 6,
   "metadata": {},
   "outputs": [],
   "source": [
    "retorno = lista_produtos['retorno'].to_numpy()\n",
    "#retorno"
   ]
  },
  {
   "cell_type": "code",
   "execution_count": 7,
   "metadata": {},
   "outputs": [],
   "source": [
    "ret_med = lista_produtos['ret_med'].to_numpy()\n",
    "#ret_med.reshape((666, 1))"
   ]
  },
  {
   "cell_type": "code",
   "execution_count": 8,
   "metadata": {},
   "outputs": [],
   "source": [
    "aval = lista_produtos['aval'].to_numpy()\n",
    "#aval.reshape((666, 1))"
   ]
  },
  {
   "cell_type": "code",
   "execution_count": 9,
   "metadata": {},
   "outputs": [
    {
     "data": {
      "text/html": [
       "<div>\n",
       "<style scoped>\n",
       "    .dataframe tbody tr th:only-of-type {\n",
       "        vertical-align: middle;\n",
       "    }\n",
       "\n",
       "    .dataframe tbody tr th {\n",
       "        vertical-align: top;\n",
       "    }\n",
       "\n",
       "    .dataframe thead th {\n",
       "        text-align: right;\n",
       "    }\n",
       "</style>\n",
       "<table border=\"1\" class=\"dataframe\">\n",
       "  <thead>\n",
       "    <tr style=\"text-align: right;\">\n",
       "      <th></th>\n",
       "      <th>produto_0</th>\n",
       "      <th>produto_1</th>\n",
       "      <th>produto_2</th>\n",
       "      <th>produto_3</th>\n",
       "      <th>produto_4</th>\n",
       "      <th>produto_5</th>\n",
       "      <th>produto_6</th>\n",
       "      <th>produto_7</th>\n",
       "      <th>produto_8</th>\n",
       "      <th>produto_9</th>\n",
       "      <th>...</th>\n",
       "      <th>produto_658</th>\n",
       "      <th>produto_659</th>\n",
       "      <th>produto_660</th>\n",
       "      <th>produto_661</th>\n",
       "      <th>produto_662</th>\n",
       "      <th>produto_663</th>\n",
       "      <th>produto_664</th>\n",
       "      <th>produto_665</th>\n",
       "      <th>produto_666</th>\n",
       "      <th>produto_667</th>\n",
       "    </tr>\n",
       "    <tr>\n",
       "      <th>nome</th>\n",
       "      <th></th>\n",
       "      <th></th>\n",
       "      <th></th>\n",
       "      <th></th>\n",
       "      <th></th>\n",
       "      <th></th>\n",
       "      <th></th>\n",
       "      <th></th>\n",
       "      <th></th>\n",
       "      <th></th>\n",
       "      <th></th>\n",
       "      <th></th>\n",
       "      <th></th>\n",
       "      <th></th>\n",
       "      <th></th>\n",
       "      <th></th>\n",
       "      <th></th>\n",
       "      <th></th>\n",
       "      <th></th>\n",
       "      <th></th>\n",
       "      <th></th>\n",
       "    </tr>\n",
       "  </thead>\n",
       "  <tbody>\n",
       "    <tr>\n",
       "      <th>produto_0</th>\n",
       "      <td>9.127837e-06</td>\n",
       "      <td>1.997092e-06</td>\n",
       "      <td>1.907910e-07</td>\n",
       "      <td>1.946977e-06</td>\n",
       "      <td>4.344784e-08</td>\n",
       "      <td>7.385602e-06</td>\n",
       "      <td>2.024246e-07</td>\n",
       "      <td>-7.561183e-06</td>\n",
       "      <td>-3.135964e-06</td>\n",
       "      <td>-3.910114e-06</td>\n",
       "      <td>...</td>\n",
       "      <td>-1.475392e-05</td>\n",
       "      <td>6.512619e-06</td>\n",
       "      <td>5.842226e-07</td>\n",
       "      <td>8.236342e-06</td>\n",
       "      <td>4.743256e-06</td>\n",
       "      <td>2.604917e-06</td>\n",
       "      <td>2.167275e-07</td>\n",
       "      <td>4.558311e-05</td>\n",
       "      <td>4.752190e-05</td>\n",
       "      <td>4.728425e-05</td>\n",
       "    </tr>\n",
       "    <tr>\n",
       "      <th>produto_1</th>\n",
       "      <td>1.997092e-06</td>\n",
       "      <td>7.308937e-06</td>\n",
       "      <td>2.173131e-08</td>\n",
       "      <td>1.908224e-06</td>\n",
       "      <td>1.440145e-07</td>\n",
       "      <td>4.428016e-06</td>\n",
       "      <td>2.247668e-07</td>\n",
       "      <td>-2.943755e-06</td>\n",
       "      <td>-1.478506e-06</td>\n",
       "      <td>-9.272513e-07</td>\n",
       "      <td>...</td>\n",
       "      <td>-8.617950e-06</td>\n",
       "      <td>3.995716e-06</td>\n",
       "      <td>3.939369e-07</td>\n",
       "      <td>5.141105e-06</td>\n",
       "      <td>3.081143e-06</td>\n",
       "      <td>2.029255e-06</td>\n",
       "      <td>3.669501e-08</td>\n",
       "      <td>2.877069e-05</td>\n",
       "      <td>2.992720e-05</td>\n",
       "      <td>2.987897e-05</td>\n",
       "    </tr>\n",
       "    <tr>\n",
       "      <th>produto_2</th>\n",
       "      <td>1.907910e-07</td>\n",
       "      <td>2.173131e-08</td>\n",
       "      <td>5.325114e-06</td>\n",
       "      <td>1.722893e-08</td>\n",
       "      <td>1.053738e-08</td>\n",
       "      <td>8.710767e-08</td>\n",
       "      <td>1.370160e-08</td>\n",
       "      <td>-1.224788e-07</td>\n",
       "      <td>-2.337944e-07</td>\n",
       "      <td>-3.298871e-07</td>\n",
       "      <td>...</td>\n",
       "      <td>-5.817326e-07</td>\n",
       "      <td>1.105320e-07</td>\n",
       "      <td>-2.924006e-08</td>\n",
       "      <td>3.959292e-07</td>\n",
       "      <td>7.980783e-08</td>\n",
       "      <td>-7.930616e-08</td>\n",
       "      <td>1.223667e-07</td>\n",
       "      <td>4.933548e-07</td>\n",
       "      <td>7.632671e-07</td>\n",
       "      <td>6.091602e-07</td>\n",
       "    </tr>\n",
       "    <tr>\n",
       "      <th>produto_3</th>\n",
       "      <td>1.946977e-06</td>\n",
       "      <td>1.908224e-06</td>\n",
       "      <td>1.722893e-08</td>\n",
       "      <td>7.146463e-06</td>\n",
       "      <td>7.310698e-08</td>\n",
       "      <td>4.027246e-06</td>\n",
       "      <td>-1.201524e-08</td>\n",
       "      <td>-3.018323e-06</td>\n",
       "      <td>-1.500099e-06</td>\n",
       "      <td>-1.061948e-06</td>\n",
       "      <td>...</td>\n",
       "      <td>-9.568140e-06</td>\n",
       "      <td>3.602900e-06</td>\n",
       "      <td>4.085647e-09</td>\n",
       "      <td>5.035034e-06</td>\n",
       "      <td>2.733777e-06</td>\n",
       "      <td>1.644535e-06</td>\n",
       "      <td>2.034310e-07</td>\n",
       "      <td>2.712052e-05</td>\n",
       "      <td>2.795082e-05</td>\n",
       "      <td>2.823313e-05</td>\n",
       "    </tr>\n",
       "    <tr>\n",
       "      <th>produto_4</th>\n",
       "      <td>4.344784e-08</td>\n",
       "      <td>1.440145e-07</td>\n",
       "      <td>1.053738e-08</td>\n",
       "      <td>7.310698e-08</td>\n",
       "      <td>5.322298e-06</td>\n",
       "      <td>1.780346e-07</td>\n",
       "      <td>1.200626e-07</td>\n",
       "      <td>3.954907e-08</td>\n",
       "      <td>4.264531e-08</td>\n",
       "      <td>-8.368717e-08</td>\n",
       "      <td>...</td>\n",
       "      <td>-1.993395e-07</td>\n",
       "      <td>3.428925e-07</td>\n",
       "      <td>6.865860e-08</td>\n",
       "      <td>2.016628e-07</td>\n",
       "      <td>8.436638e-08</td>\n",
       "      <td>3.170273e-07</td>\n",
       "      <td>1.648742e-07</td>\n",
       "      <td>9.267664e-07</td>\n",
       "      <td>1.045393e-06</td>\n",
       "      <td>1.200111e-06</td>\n",
       "    </tr>\n",
       "  </tbody>\n",
       "</table>\n",
       "<p>5 rows × 666 columns</p>\n",
       "</div>"
      ],
      "text/plain": [
       "              produto_0     produto_1     produto_2     produto_3  \\\n",
       "nome                                                                \n",
       "produto_0  9.127837e-06  1.997092e-06  1.907910e-07  1.946977e-06   \n",
       "produto_1  1.997092e-06  7.308937e-06  2.173131e-08  1.908224e-06   \n",
       "produto_2  1.907910e-07  2.173131e-08  5.325114e-06  1.722893e-08   \n",
       "produto_3  1.946977e-06  1.908224e-06  1.722893e-08  7.146463e-06   \n",
       "produto_4  4.344784e-08  1.440145e-07  1.053738e-08  7.310698e-08   \n",
       "\n",
       "              produto_4     produto_5     produto_6     produto_7  \\\n",
       "nome                                                                \n",
       "produto_0  4.344784e-08  7.385602e-06  2.024246e-07 -7.561183e-06   \n",
       "produto_1  1.440145e-07  4.428016e-06  2.247668e-07 -2.943755e-06   \n",
       "produto_2  1.053738e-08  8.710767e-08  1.370160e-08 -1.224788e-07   \n",
       "produto_3  7.310698e-08  4.027246e-06 -1.201524e-08 -3.018323e-06   \n",
       "produto_4  5.322298e-06  1.780346e-07  1.200626e-07  3.954907e-08   \n",
       "\n",
       "              produto_8     produto_9  ...   produto_658   produto_659  \\\n",
       "nome                                   ...                               \n",
       "produto_0 -3.135964e-06 -3.910114e-06  ... -1.475392e-05  6.512619e-06   \n",
       "produto_1 -1.478506e-06 -9.272513e-07  ... -8.617950e-06  3.995716e-06   \n",
       "produto_2 -2.337944e-07 -3.298871e-07  ... -5.817326e-07  1.105320e-07   \n",
       "produto_3 -1.500099e-06 -1.061948e-06  ... -9.568140e-06  3.602900e-06   \n",
       "produto_4  4.264531e-08 -8.368717e-08  ... -1.993395e-07  3.428925e-07   \n",
       "\n",
       "            produto_660   produto_661   produto_662   produto_663  \\\n",
       "nome                                                                \n",
       "produto_0  5.842226e-07  8.236342e-06  4.743256e-06  2.604917e-06   \n",
       "produto_1  3.939369e-07  5.141105e-06  3.081143e-06  2.029255e-06   \n",
       "produto_2 -2.924006e-08  3.959292e-07  7.980783e-08 -7.930616e-08   \n",
       "produto_3  4.085647e-09  5.035034e-06  2.733777e-06  1.644535e-06   \n",
       "produto_4  6.865860e-08  2.016628e-07  8.436638e-08  3.170273e-07   \n",
       "\n",
       "            produto_664   produto_665   produto_666   produto_667  \n",
       "nome                                                               \n",
       "produto_0  2.167275e-07  4.558311e-05  4.752190e-05  4.728425e-05  \n",
       "produto_1  3.669501e-08  2.877069e-05  2.992720e-05  2.987897e-05  \n",
       "produto_2  1.223667e-07  4.933548e-07  7.632671e-07  6.091602e-07  \n",
       "produto_3  2.034310e-07  2.712052e-05  2.795082e-05  2.823313e-05  \n",
       "produto_4  1.648742e-07  9.267664e-07  1.045393e-06  1.200111e-06  \n",
       "\n",
       "[5 rows x 666 columns]"
      ]
     },
     "execution_count": 9,
     "metadata": {},
     "output_type": "execute_result"
    }
   ],
   "source": [
    "matriz_de_covariancia.head()"
   ]
  },
  {
   "cell_type": "code",
   "execution_count": 10,
   "metadata": {},
   "outputs": [
    {
     "data": {
      "text/plain": [
       "(666, 666)"
      ]
     },
     "execution_count": 10,
     "metadata": {},
     "output_type": "execute_result"
    }
   ],
   "source": [
    "cov=matriz_de_covariancia.to_numpy()\n",
    "cov.shape"
   ]
  },
  {
   "cell_type": "code",
   "execution_count": 11,
   "metadata": {},
   "outputs": [
    {
     "data": {
      "text/html": [
       "<div>\n",
       "<style scoped>\n",
       "    .dataframe tbody tr th:only-of-type {\n",
       "        vertical-align: middle;\n",
       "    }\n",
       "\n",
       "    .dataframe tbody tr th {\n",
       "        vertical-align: top;\n",
       "    }\n",
       "\n",
       "    .dataframe thead th {\n",
       "        text-align: right;\n",
       "    }\n",
       "</style>\n",
       "<table border=\"1\" class=\"dataframe\">\n",
       "  <thead>\n",
       "    <tr style=\"text-align: right;\">\n",
       "      <th></th>\n",
       "      <th>produto</th>\n",
       "      <th>retorno</th>\n",
       "      <th>avaliacao_risco</th>\n",
       "      <th>aloc</th>\n",
       "      <th>ret_med</th>\n",
       "      <th>aval</th>\n",
       "    </tr>\n",
       "    <tr>\n",
       "      <th>classe</th>\n",
       "      <th></th>\n",
       "      <th></th>\n",
       "      <th></th>\n",
       "      <th></th>\n",
       "      <th></th>\n",
       "      <th></th>\n",
       "    </tr>\n",
       "  </thead>\n",
       "  <tbody>\n",
       "    <tr>\n",
       "      <th>classe_0</th>\n",
       "      <td>18</td>\n",
       "      <td>18</td>\n",
       "      <td>18</td>\n",
       "      <td>18</td>\n",
       "      <td>18</td>\n",
       "      <td>18</td>\n",
       "    </tr>\n",
       "    <tr>\n",
       "      <th>classe_1</th>\n",
       "      <td>33</td>\n",
       "      <td>33</td>\n",
       "      <td>33</td>\n",
       "      <td>33</td>\n",
       "      <td>33</td>\n",
       "      <td>33</td>\n",
       "    </tr>\n",
       "    <tr>\n",
       "      <th>classe_2</th>\n",
       "      <td>40</td>\n",
       "      <td>40</td>\n",
       "      <td>40</td>\n",
       "      <td>40</td>\n",
       "      <td>40</td>\n",
       "      <td>40</td>\n",
       "    </tr>\n",
       "    <tr>\n",
       "      <th>classe_3</th>\n",
       "      <td>15</td>\n",
       "      <td>15</td>\n",
       "      <td>15</td>\n",
       "      <td>15</td>\n",
       "      <td>15</td>\n",
       "      <td>15</td>\n",
       "    </tr>\n",
       "    <tr>\n",
       "      <th>classe_4</th>\n",
       "      <td>76</td>\n",
       "      <td>76</td>\n",
       "      <td>76</td>\n",
       "      <td>76</td>\n",
       "      <td>76</td>\n",
       "      <td>76</td>\n",
       "    </tr>\n",
       "    <tr>\n",
       "      <th>classe_5</th>\n",
       "      <td>77</td>\n",
       "      <td>77</td>\n",
       "      <td>77</td>\n",
       "      <td>77</td>\n",
       "      <td>77</td>\n",
       "      <td>77</td>\n",
       "    </tr>\n",
       "    <tr>\n",
       "      <th>classe_6</th>\n",
       "      <td>145</td>\n",
       "      <td>145</td>\n",
       "      <td>145</td>\n",
       "      <td>145</td>\n",
       "      <td>145</td>\n",
       "      <td>145</td>\n",
       "    </tr>\n",
       "    <tr>\n",
       "      <th>classe_7</th>\n",
       "      <td>9</td>\n",
       "      <td>9</td>\n",
       "      <td>9</td>\n",
       "      <td>9</td>\n",
       "      <td>9</td>\n",
       "      <td>9</td>\n",
       "    </tr>\n",
       "    <tr>\n",
       "      <th>classe_8</th>\n",
       "      <td>200</td>\n",
       "      <td>200</td>\n",
       "      <td>200</td>\n",
       "      <td>200</td>\n",
       "      <td>200</td>\n",
       "      <td>200</td>\n",
       "    </tr>\n",
       "    <tr>\n",
       "      <th>classe_9</th>\n",
       "      <td>53</td>\n",
       "      <td>53</td>\n",
       "      <td>53</td>\n",
       "      <td>53</td>\n",
       "      <td>53</td>\n",
       "      <td>53</td>\n",
       "    </tr>\n",
       "  </tbody>\n",
       "</table>\n",
       "</div>"
      ],
      "text/plain": [
       "          produto  retorno  avaliacao_risco  aloc  ret_med  aval\n",
       "classe                                                          \n",
       "classe_0       18       18               18    18       18    18\n",
       "classe_1       33       33               33    33       33    33\n",
       "classe_2       40       40               40    40       40    40\n",
       "classe_3       15       15               15    15       15    15\n",
       "classe_4       76       76               76    76       76    76\n",
       "classe_5       77       77               77    77       77    77\n",
       "classe_6      145      145              145   145      145   145\n",
       "classe_7        9        9                9     9        9     9\n",
       "classe_8      200      200              200   200      200   200\n",
       "classe_9       53       53               53    53       53    53"
      ]
     },
     "execution_count": 11,
     "metadata": {},
     "output_type": "execute_result"
    }
   ],
   "source": [
    "Quantidade_produtos_classe=lista_produtos.groupby(['classe']).count()\n",
    "Quantidade_produtos_classe"
   ]
  },
  {
   "cell_type": "code",
   "execution_count": 12,
   "metadata": {},
   "outputs": [
    {
     "data": {
      "text/plain": [
       "(10, 666)"
      ]
     },
     "execution_count": 12,
     "metadata": {},
     "output_type": "execute_result"
    }
   ],
   "source": [
    "L=np.array([5,2,3,1,1,4,2,2,1,1])\n",
    "\n",
    "A0=np.concatenate((np.ones((1, 18)),np.zeros((1,(666-18)))), axis=1)\n",
    "A1=np.concatenate((np.zeros((1,18)),np.ones((1,33)), np.zeros((1,(666-18-33)))), axis=1)\n",
    "A2=np.concatenate((np.zeros((1,18+33)),np.ones((1,40)), np.zeros((1,(666-18-33-40)))), axis=1)\n",
    "A3=np.concatenate((np.zeros((1,18+33+40)),np.ones((1,15)), np.zeros((1,(666-18-33-40-15)))), axis=1)\n",
    "A4=np.concatenate((np.zeros((1,18+33+40+15)),np.ones((1,76)), np.zeros((1,(666-18-33-40-15-76)))), axis=1)\n",
    "A5=np.concatenate((np.zeros((1,18+33+40+15+76)),np.ones((1,77)), np.zeros((1,(666-18-33-40-15-76-77)))), axis=1)\n",
    "A6=np.concatenate((np.zeros((1,18+33+40+15+76+77)),np.ones((1,145)), np.zeros((1,(666-18-33-40-15-76-77-145)))), axis=1)\n",
    "A7=np.concatenate((np.zeros((1,18+33+40+15+76+77+145)),np.ones((1,9)), np.zeros((1,(666-18-33-40-15-76-77-145-9)))), axis=1)\n",
    "A8=np.concatenate((np.zeros((1,18+33+40+15+76+77+145+9)),np.ones((1,200)), np.zeros((1,(666-18-33-40-15-76-77-145-9-200)))), axis=1)\n",
    "A9=np.concatenate((np.zeros((1,18+33+40+15+76+77+145+9+200)),np.ones((1,53))), axis=1)\n",
    "\n",
    "A=np.concatenate((A0,A1,A2,A3,A4,A5,A6,A7,A8,A9))\n",
    "A.shape"
   ]
  },
  {
   "cell_type": "code",
   "execution_count": 13,
   "metadata": {},
   "outputs": [
    {
     "name": "stdout",
     "output_type": "stream",
     "text": [
      "===============================================================================\n",
      "                                     CVXPY                                     \n",
      "                                     v1.4.3                                    \n",
      "===============================================================================\n",
      "(CVXPY) Apr 28 06:03:45 PM: Your problem has 666 variables, 2 constraints, and 0 parameters.\n",
      "(CVXPY) Apr 28 06:03:46 PM: It is compliant with the following grammars: DCP, DQCP\n",
      "(CVXPY) Apr 28 06:03:46 PM: (If you need to solve this problem multiple times, but with different data, consider using parameters.)\n",
      "(CVXPY) Apr 28 06:03:46 PM: CVXPY will first compile your problem; then, it will invoke a numerical solver to obtain a solution.\n",
      "(CVXPY) Apr 28 06:03:46 PM: Your problem is compiled with the CPP canonicalization backend.\n",
      "-------------------------------------------------------------------------------\n",
      "                                  Compilation                                  \n",
      "-------------------------------------------------------------------------------\n",
      "(CVXPY) Apr 28 06:03:46 PM: Compiling problem (target solver=SCIP).\n",
      "(CVXPY) Apr 28 06:03:46 PM: Reduction chain: Dcp2Cone -> CvxAttr2Constr -> ConeMatrixStuffing -> SCIP\n",
      "(CVXPY) Apr 28 06:03:46 PM: Applying reduction Dcp2Cone\n",
      "(CVXPY) Apr 28 06:03:46 PM: Applying reduction CvxAttr2Constr\n",
      "(CVXPY) Apr 28 06:03:46 PM: Applying reduction ConeMatrixStuffing\n",
      "(CVXPY) Apr 28 06:03:46 PM: Applying reduction SCIP\n",
      "(CVXPY) Apr 28 06:03:46 PM: Finished problem compilation (took 5.458e-01 seconds).\n",
      "-------------------------------------------------------------------------------\n",
      "                                Numerical solver                               \n",
      "-------------------------------------------------------------------------------\n",
      "(CVXPY) Apr 28 06:03:46 PM: Invoking solver SCIP  to obtain a solution.\n",
      "presolving:\n",
      "(round 1, fast)       2 del vars, 2 del conss, 0 add conss, 1335 chg bounds, 0 chg sides, 0 chg coeffs, 0 upgd conss, 0 impls, 4 clqs\n",
      "(round 2, exhaustive) 2 del vars, 2 del conss, 0 add conss, 1335 chg bounds, 0 chg sides, 0 chg coeffs, 4 upgd conss, 0 impls, 4 clqs\n",
      "   (18.1s) probing cycle finished: starting next cycle\n",
      "(round 3, exhaustive) 2 del vars, 2 del conss, 0 add conss, 1350 chg bounds, 0 chg sides, 0 chg coeffs, 4 upgd conss, 1325 impls, 4 clqs\n",
      "   (19.3s) probing: 49/666 (7.4%) - 0 fixings, 0 aggregations, 1325 implications, 15 bound changes\n",
      "   (19.3s) probing aborted: 50/50 successive totally useless probings\n",
      "   (19.3s) symmetry computation started: requiring (bin +, int +, cont +), (fixed: bin -, int -, cont -)\n",
      "   (19.6s) no symmetry present (symcode time: 0.10)\n",
      "presolving (4 rounds: 4 fast, 3 medium, 3 exhaustive):\n",
      " 2 deleted vars, 2 deleted constraints, 0 added constraints, 1350 tightened bounds, 0 added holes, 0 changed sides, 0 changed coefficients\n",
      " 1325 implications, 4 cliques\n",
      "presolved problem has 1333 variables (666 bin, 0 int, 0 impl, 667 cont) and 678 constraints\n",
      "      4 constraints of type <setppc>\n",
      "    673 constraints of type <linear>\n",
      "      1 constraints of type <nonlinear>\n",
      "Presolving Time: 19.56\n",
      "\n",
      " time | node  | left  |LP iter|LP it/n|mem/heur|mdpt |vars |cons |rows |cuts |sepa|confs|strbr|  dualbound   | primalbound  |  gap   | compl. \n",
      "p22.2s|     1 |     0 |   173 |     - |shiftand|   0 |2000 | 678 |2676 |   0 |  0 |   0 |   0 |-6.322127e+00 |-1.150175e-01 |5396.67%| unknown\n",
      "t22.2s|     1 |     0 |   173 |     - |  trysol|   0 |2000 | 678 |2676 |   0 |  0 |   0 |   0 |-6.322127e+00 |-1.227005e-01 |5052.49%| unknown\n",
      " 23.2s|     1 |     0 |  1748 |     - |   266M |   0 |2000 | 678 |2676 |   0 |  0 |   0 |   0 |-2.393287e-01 |-1.227005e-01 |  95.05%| unknown\n",
      " 23.7s|     1 |     0 |  2006 |     - |   267M |   0 |2000 | 678 |3036 | 360 |  1 |   0 |   0 |-2.282012e-01 |-1.227005e-01 |  85.98%| unknown\n",
      " 24.4s|     1 |     0 |  2241 |     - |   268M |   0 |2000 | 678 |3265 | 589 |  2 |   0 |   0 |-2.277679e-01 |-1.227005e-01 |  85.63%| unknown\n",
      " 24.6s|     1 |     0 |  2254 |     - |   269M |   0 |2000 | 678 |3274 | 598 |  3 |   0 |   0 |-2.218742e-01 |-1.227005e-01 |  80.83%| unknown\n",
      "L24.8s|     1 |     0 |  2254 |     - |  subnlp|   0 |2000 | 678 |3274 | 598 |  3 |   0 |   0 |-2.218742e-01 |-2.218687e-01 |   0.00%| unknown\n",
      " 24.9s|     1 |     0 |  2255 |     - |   269M |   0 |2000 | 668 |3274 | 598 |  4 |   0 |   0 |-2.218742e-01 |-2.218687e-01 |   0.00%| unknown\n",
      "(run 1, node 1) restarting after 664 global fixings of integer variables\n",
      "\n",
      "(restart) converted 1 cuts from the global cut pool into linear constraints\n",
      "\n",
      "presolving:\n",
      "(round 1, fast)       1996 del vars, 666 del conss, 0 add conss, 456 chg bounds, 0 chg sides, 0 chg coeffs, 0 upgd conss, 1596 impls, 0 clqs\n",
      "(round 2, fast)       1999 del vars, 668 del conss, 0 add conss, 462 chg bounds, 0 chg sides, 0 chg coeffs, 1 upgd conss, 1596 impls, 0 clqs\n",
      "presolving (3 rounds: 3 fast, 1 medium, 1 exhaustive):\n",
      " 2000 deleted vars, 669 deleted constraints, 0 added constraints, 463 tightened bounds, 0 added holes, 0 changed sides, 0 changed coefficients\n",
      " 1596 implications, 0 cliques\n",
      "transformed 1/3 original solutions to the transformed problem space\n",
      "Presolving Time: 19.64\n",
      "\n",
      "SCIP Status        : problem is solved [optimal solution found]\n",
      "Solving Time (sec) : 25.24\n",
      "Solving Nodes      : 0 (total of 1 nodes in 2 runs)\n",
      "Primal Bound       : -2.21868673396595e-01 (3 solutions)\n",
      "Dual Bound         : -2.21868673396595e-01\n",
      "Gap                : 0.00 %\n",
      "-------------------------------------------------------------------------------\n",
      "                                    Summary                                    \n",
      "-------------------------------------------------------------------------------\n",
      "(CVXPY) Apr 28 06:04:23 PM: Problem status: optimal\n",
      "(CVXPY) Apr 28 06:04:23 PM: Optimal value: -2.219e-01\n",
      "(CVXPY) Apr 28 06:04:23 PM: Compilation took 5.458e-01 seconds\n",
      "(CVXPY) Apr 28 06:04:23 PM: Solver (including time spent in interface) took 3.678e+01 seconds\n",
      "status: optimal\n",
      "optimal value -0.22186867335635363\n",
      "optimal var [-0. -0. -0. -0. -0.  1. -0. -0. -0.  1.  1. -0. -0. -0. -0.  1. -0.  1.\n",
      "  1. -0. -0. -0. -0. -0. -0. -0. -0. -0. -0. -0. -0. -0.  1. -0. -0. -0.\n",
      " -0. -0. -0. -0. -0. -0. -0. -0. -0. -0. -0. -0. -0. -0. -0. -0.  1. -0.\n",
      " -0. -0.  0. -0. -0. -0.  1. -0.  1. -0. -0. -0. -0. -0. -0. -0. -0. -0.\n",
      " -0. -0. -0. -0. -0. -0. -0. -0. -0. -0. -0. -0. -0. -0. -0. -0. -0. -0.\n",
      " -0. -0. -0. -0. -0. -0. -0. -0. -0. -0. -0. -0. -0. -0. -0.  1. -0. -0.\n",
      " -0. -0. -0. -0. -0. -0. -0. -0. -0. -0. -0. -0. -0. -0. -0. -0. -0. -0.\n",
      " -0. -0. -0. -0. -0. -0. -0. -0. -0. -0. -0. -0. -0. -0. -0. -0. -0. -0.\n",
      " -0. -0. -0. -0. -0. -0. -0. -0. -0. -0. -0. -0. -0. -0. -0. -0. -0. -0.\n",
      " -0. -0. -0. -0. -0. -0. -0. -0. -0. -0.  1. -0. -0. -0. -0. -0. -0. -0.\n",
      " -0. -0. -0. -0. -0. -0. -0.  1. -0. -0. -0. -0. -0. -0. -0. -0. -0. -0.\n",
      " -0. -0.  1. -0. -0. -0. -0. -0.  1. -0.  1. -0. -0. -0. -0. -0. -0. -0.\n",
      " -0. -0. -0. -0. -0. -0. -0. -0. -0. -0. -0. -0. -0. -0. -0. -0. -0. -0.\n",
      " -0. -0. -0. -0. -0. -0. -0. -0. -0. -0. -0. -0. -0. -0. -0. -0. -0. -0.\n",
      " -0. -0. -0. -0. -0. -0. -0. -0. -0. -0. -0. -0. -0. -0. -0. -0. -0. -0.\n",
      " -0. -0. -0. -0. -0. -0. -0. -0. -0. -0. -0. -0. -0. -0. -0. -0. -0. -0.\n",
      " -0. -0. -0. -0. -0. -0. -0. -0. -0. -0. -0. -0. -0. -0. -0. -0. -0. -0.\n",
      " -0. -0. -0. -0. -0. -0. -0. -0. -0. -0. -0. -0. -0. -0. -0. -0. -0. -0.\n",
      " -0. -0. -0. -0. -0. -0. -0. -0. -0. -0. -0.  1. -0. -0. -0. -0. -0. -0.\n",
      " -0. -0. -0. -0. -0. -0. -0. -0. -0. -0. -0. -0. -0. -0. -0. -0. -0. -0.\n",
      " -0. -0. -0. -0. -0. -0. -0. -0. -0. -0. -0. -0. -0. -0. -0. -0.  1. -0.\n",
      " -0. -0. -0. -0. -0. -0. -0. -0. -0. -0. -0. -0. -0. -0. -0. -0. -0. -0.\n",
      " -0. -0. -0. -0. -0. -0. -0. -0. -0. -0. -0. -0. -0. -0. -0.  1.  1. -0.\n",
      " -0. -0. -0. -0. -0. -0. -0.  1. -0. -0. -0. -0. -0. -0. -0. -0. -0. -0.\n",
      " -0. -0. -0. -0. -0. -0. -0. -0. -0. -0. -0. -0. -0. -0. -0. -0. -0. -0.\n",
      " -0. -0. -0. -0. -0. -0. -0. -0. -0. -0. -0. -0. -0. -0. -0. -0. -0. -0.\n",
      " -0. -0. -0. -0. -0. -0. -0. -0. -0. -0. -0. -0. -0. -0. -0. -0. -0. -0.\n",
      " -0. -0. -0. -0. -0. -0. -0. -0. -0. -0. -0. -0. -0. -0. -0. -0. -0. -0.\n",
      " -0. -0. -0. -0. -0. -0. -0. -0. -0. -0. -0. -0. -0. -0. -0. -0. -0. -0.\n",
      " -0. -0. -0. -0. -0. -0. -0. -0. -0. -0. -0. -0. -0. -0. -0. -0. -0. -0.\n",
      " -0. -0. -0. -0. -0. -0. -0. -0. -0. -0. -0. -0. -0. -0. -0. -0. -0. -0.\n",
      " -0. -0. -0. -0. -0. -0. -0. -0. -0. -0. -0. -0. -0. -0. -0. -0. -0. -0.\n",
      " -0. -0. -0. -0. -0. -0. -0. -0. -0. -0. -0. -0. -0. -0. -0. -0. -0. -0.\n",
      " -0. -0. -0. -0. -0. -0. -0. -0. -0. -0. -0. -0. -0. -0. -0. -0. -0. -0.\n",
      " -0. -0. -0. -0. -0. -0. -0. -0. -0. -0. -0. -0. -0. -0. -0. -0. -0. -0.\n",
      " -0. -0. -0. -0. -0. -0. -0. -0. -0. -0. -0. -0. -0. -0. -0. -0.  1. -0.\n",
      " -0. -0. -0. -0. -0. -0. -0. -0. -0. -0. -0. -0. -0. -0. -0. -0. -0. -0.]\n",
      "execution time 38.0767822265625\n"
     ]
    }
   ],
   "source": [
    "x = cp.Variable((666), boolean=True)\n",
    "\n",
    "\n",
    "obj =cp.Minimize(cp.quad_form(x, cov) - ret_med.T @ x)\n",
    "\n",
    "# Create two constraints.\n",
    "constraints =[aval.T @ x <= c,\n",
    "             A @ x == L]\n",
    "\n",
    "\n",
    "start_time = time.time()\n",
    "\n",
    "\n",
    "# Form and solve problem.\n",
    "prob = cp.Problem(obj, constraints)\n",
    "prob.solve(solver='SCIP', verbose=True)  # Returns the optimal value.\n",
    "print(\"status:\", prob.status)\n",
    "print(\"optimal value\", prob.value)\n",
    "print(\"optimal var\", x.value)\n",
    "\n",
    "end_time = time.time()\n",
    "execution_time = end_time - start_time\n",
    "print('execution time', execution_time)"
   ]
  },
  {
   "cell_type": "code",
   "execution_count": null,
   "metadata": {},
   "outputs": [],
   "source": [
    "bounds = [(-np.pi, np.pi)]\n",
    "x0 = [np.random.random()]\n",
    "resultado = scipy.optimize.minimize(fun=objective, x0=x0, bounds=bounds, method=\"SLSQP\")"
   ]
  },
  {
   "cell_type": "code",
   "execution_count": null,
   "metadata": {},
   "outputs": [],
   "source": []
  },
  {
   "cell_type": "code",
   "execution_count": null,
   "metadata": {},
   "outputs": [],
   "source": []
  },
  {
   "cell_type": "code",
   "execution_count": null,
   "metadata": {},
   "outputs": [],
   "source": []
  },
  {
   "cell_type": "code",
   "execution_count": null,
   "metadata": {},
   "outputs": [],
   "source": []
  },
  {
   "cell_type": "markdown",
   "metadata": {},
   "source": [
    "# Cenário quântico\n",
    "\n",
    "## Identificação dos jobs do grupo para recuperação dos resultados\n",
    "\n",
    "A linha de código abaixo, dá um exemplo de como colocar uma tag para identificar o seu job.\n",
    "```python\n",
    "job = backend.run(mapped_circuit, shots=1024, job_tags=[\"hackaXX\"])\n",
    "```\n",
    "\n",
    "O argumento \"job_tags\" do método `run` (seja circuito, ou runtime) é uma lista com as tags desejadas sempre passe a tag do seu grupo (exemplo: `\"hacka01\"`), e fique à vontade pra passar tags adicionais, caso deseje. Importante é que a tag do time seja passada, pra ser possível identificar os seus jobs!!!!"
   ]
  },
  {
   "cell_type": "markdown",
   "metadata": {},
   "source": [
    "## Configurações\n",
    "\n",
    "### Observação: Favor não alterar nada na célula de código abaixo!"
   ]
  },
  {
   "cell_type": "code",
   "execution_count": 14,
   "metadata": {},
   "outputs": [],
   "source": [
    "# Não altere nada nas linhas de código dessa célula!\n",
    "\n",
    "seed_list = [21, 71, 120]\n",
    "shots = 10**4\n",
    "backend = AerSimulator(method=\"matrix_product_state\")\n",
    "estimator = BackendEstimator(backend=backend)\n",
    "sampler = BackendSampler(backend=backend)\n",
    "dict_alocacao = {\"classe_1\": 0.3,\n",
    "                 \"classe_2\": 0.3,\n",
    "                 \"classe_3\": 0.4}\n",
    "dict_quantidade_produtos = {\"classe_1\": 1,\n",
    "                            \"classe_2\": 1,\n",
    "                            \"classe_3\": 1}\n",
    "aval_limite_dict = {21: 4,\n",
    "                    71: 4}"
   ]
  },
  {
   "cell_type": "markdown",
   "metadata": {},
   "source": [
    "## Seed: 120 (Fácil)"
   ]
  },
  {
   "cell_type": "markdown",
   "metadata": {},
   "source": [
    "### QAOA"
   ]
  },
  {
   "cell_type": "code",
   "execution_count": 21,
   "metadata": {},
   "outputs": [
    {
     "ename": "RequestsApiError",
     "evalue": "'401 Client Error: Unauthorized for url: https://auth.quantum-computing.ibm.com/api/users/loginWithToken. Login failed., Error code: 3446.'",
     "output_type": "error",
     "traceback": [
      "\u001b[0;31m---------------------------------------------------------------------------\u001b[0m",
      "\u001b[0;31mHTTPError\u001b[0m                                 Traceback (most recent call last)",
      "File \u001b[0;32m~/anaconda3/envs/batalhaitau/lib/python3.11/site-packages/qiskit_ibm_provider/api/session.py:264\u001b[0m, in \u001b[0;36mRetrySession.request\u001b[0;34m(self, method, url, bare, **kwargs)\u001b[0m\n\u001b[1;32m    263\u001b[0m     response \u001b[38;5;241m=\u001b[39m \u001b[38;5;28msuper\u001b[39m()\u001b[38;5;241m.\u001b[39mrequest(method, final_url, headers\u001b[38;5;241m=\u001b[39mheaders, \u001b[38;5;241m*\u001b[39m\u001b[38;5;241m*\u001b[39mkwargs)\n\u001b[0;32m--> 264\u001b[0m     response\u001b[38;5;241m.\u001b[39mraise_for_status()\n\u001b[1;32m    265\u001b[0m \u001b[38;5;28;01mexcept\u001b[39;00m RequestException \u001b[38;5;28;01mas\u001b[39;00m ex:\n\u001b[1;32m    266\u001b[0m     \u001b[38;5;66;03m# Wrap the requests exceptions into a IBM Q custom one, for\u001b[39;00m\n\u001b[1;32m    267\u001b[0m     \u001b[38;5;66;03m# compatibility.\u001b[39;00m\n",
      "File \u001b[0;32m~/anaconda3/envs/batalhaitau/lib/python3.11/site-packages/requests/models.py:1021\u001b[0m, in \u001b[0;36mResponse.raise_for_status\u001b[0;34m(self)\u001b[0m\n\u001b[1;32m   1020\u001b[0m \u001b[38;5;28;01mif\u001b[39;00m http_error_msg:\n\u001b[0;32m-> 1021\u001b[0m     \u001b[38;5;28;01mraise\u001b[39;00m HTTPError(http_error_msg, response\u001b[38;5;241m=\u001b[39m\u001b[38;5;28mself\u001b[39m)\n",
      "\u001b[0;31mHTTPError\u001b[0m: 401 Client Error: Unauthorized for url: https://auth.quantum-computing.ibm.com/api/users/loginWithToken",
      "\nThe above exception was the direct cause of the following exception:\n",
      "\u001b[0;31mRequestsApiError\u001b[0m                          Traceback (most recent call last)",
      "Cell \u001b[0;32mIn[21], line 6\u001b[0m\n\u001b[1;32m      2\u001b[0m seed \u001b[38;5;241m=\u001b[39m \u001b[38;5;241m120\u001b[39m\n\u001b[1;32m      4\u001b[0m qubo \u001b[38;5;241m=\u001b[39m carrega_problema_qubo(seed)\n\u001b[0;32m----> 6\u001b[0m service1 \u001b[38;5;241m=\u001b[39m QiskitRuntimeService(instance\u001b[38;5;241m=\u001b[39m\u001b[38;5;124mf\u001b[39m\u001b[38;5;124m\"\u001b[39m\u001b[38;5;124mitau-unibanco/batalha-de-quant/\u001b[39m\u001b[38;5;132;01m{\u001b[39;00mproject\u001b[38;5;132;01m}\u001b[39;00m\u001b[38;5;124m\"\u001b[39m)\n\u001b[1;32m      7\u001b[0m backend1 \u001b[38;5;241m=\u001b[39m service\u001b[38;5;241m.\u001b[39mbackend(\u001b[38;5;124m\"\u001b[39m\u001b[38;5;124mibmq_qasm_simulator\u001b[39m\u001b[38;5;124m\"\u001b[39m)\n",
      "File \u001b[0;32m~/anaconda3/envs/batalhaitau/lib/python3.11/site-packages/qiskit_ibm_runtime/qiskit_runtime_service.py:208\u001b[0m, in \u001b[0;36mQiskitRuntimeService.__init__\u001b[0;34m(self, channel, token, url, filename, name, instance, proxies, verify, channel_strategy)\u001b[0m\n\u001b[1;32m    206\u001b[0m     \u001b[38;5;28;01mreturn\u001b[39;00m\n\u001b[1;32m    207\u001b[0m \u001b[38;5;28;01melse\u001b[39;00m:\n\u001b[0;32m--> 208\u001b[0m     auth_client \u001b[38;5;241m=\u001b[39m \u001b[38;5;28mself\u001b[39m\u001b[38;5;241m.\u001b[39m_authenticate_ibm_quantum_account(\u001b[38;5;28mself\u001b[39m\u001b[38;5;241m.\u001b[39m_client_params)\n\u001b[1;32m    209\u001b[0m     \u001b[38;5;66;03m# Update client parameters to use authenticated values.\u001b[39;00m\n\u001b[1;32m    210\u001b[0m     \u001b[38;5;28mself\u001b[39m\u001b[38;5;241m.\u001b[39m_client_params\u001b[38;5;241m.\u001b[39murl \u001b[38;5;241m=\u001b[39m auth_client\u001b[38;5;241m.\u001b[39mcurrent_service_urls()[\u001b[38;5;124m\"\u001b[39m\u001b[38;5;124mservices\u001b[39m\u001b[38;5;124m\"\u001b[39m][\u001b[38;5;124m\"\u001b[39m\u001b[38;5;124mruntime\u001b[39m\u001b[38;5;124m\"\u001b[39m]\n",
      "File \u001b[0;32m~/anaconda3/envs/batalhaitau/lib/python3.11/site-packages/qiskit_ibm_runtime/qiskit_runtime_service.py:384\u001b[0m, in \u001b[0;36mQiskitRuntimeService._authenticate_ibm_quantum_account\u001b[0;34m(self, client_params)\u001b[0m\n\u001b[1;32m    377\u001b[0m \u001b[38;5;28;01mif\u001b[39;00m \u001b[38;5;129;01mnot\u001b[39;00m version_info[\u001b[38;5;124m\"\u001b[39m\u001b[38;5;124mnew_api\u001b[39m\u001b[38;5;124m\"\u001b[39m] \u001b[38;5;129;01mor\u001b[39;00m \u001b[38;5;124m\"\u001b[39m\u001b[38;5;124mapi-auth\u001b[39m\u001b[38;5;124m\"\u001b[39m \u001b[38;5;129;01mnot\u001b[39;00m \u001b[38;5;129;01min\u001b[39;00m version_info:\n\u001b[1;32m    378\u001b[0m     \u001b[38;5;28;01mraise\u001b[39;00m IBMInputValueError(\n\u001b[1;32m    379\u001b[0m         \u001b[38;5;124m\"\u001b[39m\u001b[38;5;124mThe URL specified (\u001b[39m\u001b[38;5;132;01m{}\u001b[39;00m\u001b[38;5;124m) is not an IBM Quantum authentication URL. \u001b[39m\u001b[38;5;124m\"\u001b[39m\n\u001b[1;32m    380\u001b[0m         \u001b[38;5;124m\"\u001b[39m\u001b[38;5;124mValid authentication URL: \u001b[39m\u001b[38;5;132;01m{}\u001b[39;00m\u001b[38;5;124m.\u001b[39m\u001b[38;5;124m\"\u001b[39m\u001b[38;5;241m.\u001b[39mformat(\n\u001b[1;32m    381\u001b[0m             client_params\u001b[38;5;241m.\u001b[39murl, QISKIT_IBM_RUNTIME_API_URL\n\u001b[1;32m    382\u001b[0m         )\n\u001b[1;32m    383\u001b[0m     )\n\u001b[0;32m--> 384\u001b[0m auth_client \u001b[38;5;241m=\u001b[39m AuthClient(client_params)\n\u001b[1;32m    385\u001b[0m service_urls \u001b[38;5;241m=\u001b[39m auth_client\u001b[38;5;241m.\u001b[39mcurrent_service_urls()\n\u001b[1;32m    386\u001b[0m \u001b[38;5;28;01mif\u001b[39;00m \u001b[38;5;129;01mnot\u001b[39;00m service_urls\u001b[38;5;241m.\u001b[39mget(\u001b[38;5;124m\"\u001b[39m\u001b[38;5;124mservices\u001b[39m\u001b[38;5;124m\"\u001b[39m, {})\u001b[38;5;241m.\u001b[39mget(SERVICE_NAME):\n",
      "File \u001b[0;32m~/anaconda3/envs/batalhaitau/lib/python3.11/site-packages/qiskit_ibm_provider/api/clients/auth.py:43\u001b[0m, in \u001b[0;36mAuthClient.__init__\u001b[0;34m(self, client_params)\u001b[0m\n\u001b[1;32m     38\u001b[0m \u001b[38;5;28mself\u001b[39m\u001b[38;5;241m.\u001b[39m_service_urls \u001b[38;5;241m=\u001b[39m {}  \u001b[38;5;66;03m# type: ignore[var-annotated]\u001b[39;00m\n\u001b[1;32m     40\u001b[0m \u001b[38;5;28mself\u001b[39m\u001b[38;5;241m.\u001b[39mauth_api \u001b[38;5;241m=\u001b[39m Api(\n\u001b[1;32m     41\u001b[0m     RetrySession(\u001b[38;5;28mself\u001b[39m\u001b[38;5;241m.\u001b[39mauth_url, \u001b[38;5;241m*\u001b[39m\u001b[38;5;241m*\u001b[39mclient_params\u001b[38;5;241m.\u001b[39mconnection_parameters())\n\u001b[1;32m     42\u001b[0m )\n\u001b[0;32m---> 43\u001b[0m \u001b[38;5;28mself\u001b[39m\u001b[38;5;241m.\u001b[39mbase_api \u001b[38;5;241m=\u001b[39m \u001b[38;5;28mself\u001b[39m\u001b[38;5;241m.\u001b[39m_init_service_clients(\n\u001b[1;32m     44\u001b[0m     \u001b[38;5;241m*\u001b[39m\u001b[38;5;241m*\u001b[39mclient_params\u001b[38;5;241m.\u001b[39mconnection_parameters()\n\u001b[1;32m     45\u001b[0m )\n",
      "File \u001b[0;32m~/anaconda3/envs/batalhaitau/lib/python3.11/site-packages/qiskit_ibm_provider/api/clients/auth.py:57\u001b[0m, in \u001b[0;36mAuthClient._init_service_clients\u001b[0;34m(self, **request_kwargs)\u001b[0m\n\u001b[1;32m     48\u001b[0m \u001b[38;5;250m\u001b[39m\u001b[38;5;124;03m\"\"\"Initialize the clients used for communicating with the API.\u001b[39;00m\n\u001b[1;32m     49\u001b[0m \n\u001b[1;32m     50\u001b[0m \u001b[38;5;124;03mArgs:\u001b[39;00m\n\u001b[0;32m   (...)\u001b[0m\n\u001b[1;32m     54\u001b[0m \u001b[38;5;124;03m    Client for the API server.\u001b[39;00m\n\u001b[1;32m     55\u001b[0m \u001b[38;5;124;03m\"\"\"\u001b[39;00m\n\u001b[1;32m     56\u001b[0m \u001b[38;5;66;03m# Request an access token.\u001b[39;00m\n\u001b[0;32m---> 57\u001b[0m \u001b[38;5;28mself\u001b[39m\u001b[38;5;241m.\u001b[39maccess_token \u001b[38;5;241m=\u001b[39m \u001b[38;5;28mself\u001b[39m\u001b[38;5;241m.\u001b[39m_request_access_token()\n\u001b[1;32m     58\u001b[0m \u001b[38;5;28mself\u001b[39m\u001b[38;5;241m.\u001b[39mauth_api\u001b[38;5;241m.\u001b[39msession\u001b[38;5;241m.\u001b[39mauth \u001b[38;5;241m=\u001b[39m QuantumAuth(access_token\u001b[38;5;241m=\u001b[39m\u001b[38;5;28mself\u001b[39m\u001b[38;5;241m.\u001b[39maccess_token)\n\u001b[1;32m     59\u001b[0m \u001b[38;5;28mself\u001b[39m\u001b[38;5;241m.\u001b[39m_service_urls \u001b[38;5;241m=\u001b[39m \u001b[38;5;28mself\u001b[39m\u001b[38;5;241m.\u001b[39muser_urls()\n",
      "File \u001b[0;32m~/anaconda3/envs/batalhaitau/lib/python3.11/site-packages/qiskit_ibm_provider/api/clients/auth.py:83\u001b[0m, in \u001b[0;36mAuthClient._request_access_token\u001b[0;34m(self)\u001b[0m\n\u001b[1;32m     73\u001b[0m \u001b[38;5;250m\u001b[39m\u001b[38;5;124;03m\"\"\"Request a new access token from the API authentication service.\u001b[39;00m\n\u001b[1;32m     74\u001b[0m \n\u001b[1;32m     75\u001b[0m \u001b[38;5;124;03mReturns:\u001b[39;00m\n\u001b[0;32m   (...)\u001b[0m\n\u001b[1;32m     80\u001b[0m \u001b[38;5;124;03m    RequestsApiError: If the request failed.\u001b[39;00m\n\u001b[1;32m     81\u001b[0m \u001b[38;5;124;03m\"\"\"\u001b[39;00m\n\u001b[1;32m     82\u001b[0m \u001b[38;5;28;01mtry\u001b[39;00m:\n\u001b[0;32m---> 83\u001b[0m     response \u001b[38;5;241m=\u001b[39m \u001b[38;5;28mself\u001b[39m\u001b[38;5;241m.\u001b[39mauth_api\u001b[38;5;241m.\u001b[39mlogin(\u001b[38;5;28mself\u001b[39m\u001b[38;5;241m.\u001b[39mapi_token)\n\u001b[1;32m     84\u001b[0m     \u001b[38;5;28;01mreturn\u001b[39;00m response[\u001b[38;5;124m\"\u001b[39m\u001b[38;5;124mid\u001b[39m\u001b[38;5;124m\"\u001b[39m]\n\u001b[1;32m     85\u001b[0m \u001b[38;5;28;01mexcept\u001b[39;00m RequestsApiError \u001b[38;5;28;01mas\u001b[39;00m ex:\n\u001b[1;32m     86\u001b[0m     \u001b[38;5;66;03m# Get the original exception that raised.\u001b[39;00m\n",
      "File \u001b[0;32m~/anaconda3/envs/batalhaitau/lib/python3.11/site-packages/qiskit_ibm_provider/api/rest/root.py:96\u001b[0m, in \u001b[0;36mApi.login\u001b[0;34m(self, api_token)\u001b[0m\n\u001b[1;32m     87\u001b[0m \u001b[38;5;250m\u001b[39m\u001b[38;5;124;03m\"\"\"Login with token.\u001b[39;00m\n\u001b[1;32m     88\u001b[0m \n\u001b[1;32m     89\u001b[0m \u001b[38;5;124;03mArgs:\u001b[39;00m\n\u001b[0;32m   (...)\u001b[0m\n\u001b[1;32m     93\u001b[0m \u001b[38;5;124;03m    JSON response.\u001b[39;00m\n\u001b[1;32m     94\u001b[0m \u001b[38;5;124;03m\"\"\"\u001b[39;00m\n\u001b[1;32m     95\u001b[0m url \u001b[38;5;241m=\u001b[39m \u001b[38;5;28mself\u001b[39m\u001b[38;5;241m.\u001b[39mget_url(\u001b[38;5;124m\"\u001b[39m\u001b[38;5;124mlogin\u001b[39m\u001b[38;5;124m\"\u001b[39m)\n\u001b[0;32m---> 96\u001b[0m \u001b[38;5;28;01mreturn\u001b[39;00m \u001b[38;5;28mself\u001b[39m\u001b[38;5;241m.\u001b[39msession\u001b[38;5;241m.\u001b[39mpost(url, json\u001b[38;5;241m=\u001b[39m{\u001b[38;5;124m\"\u001b[39m\u001b[38;5;124mapiToken\u001b[39m\u001b[38;5;124m\"\u001b[39m: api_token})\u001b[38;5;241m.\u001b[39mjson()\n",
      "File \u001b[0;32m~/anaconda3/envs/batalhaitau/lib/python3.11/site-packages/requests/sessions.py:637\u001b[0m, in \u001b[0;36mSession.post\u001b[0;34m(self, url, data, json, **kwargs)\u001b[0m\n\u001b[1;32m    626\u001b[0m \u001b[38;5;28;01mdef\u001b[39;00m \u001b[38;5;21mpost\u001b[39m(\u001b[38;5;28mself\u001b[39m, url, data\u001b[38;5;241m=\u001b[39m\u001b[38;5;28;01mNone\u001b[39;00m, json\u001b[38;5;241m=\u001b[39m\u001b[38;5;28;01mNone\u001b[39;00m, \u001b[38;5;241m*\u001b[39m\u001b[38;5;241m*\u001b[39mkwargs):\n\u001b[1;32m    627\u001b[0m \u001b[38;5;250m    \u001b[39m\u001b[38;5;124mr\u001b[39m\u001b[38;5;124;03m\"\"\"Sends a POST request. Returns :class:`Response` object.\u001b[39;00m\n\u001b[1;32m    628\u001b[0m \n\u001b[1;32m    629\u001b[0m \u001b[38;5;124;03m    :param url: URL for the new :class:`Request` object.\u001b[39;00m\n\u001b[0;32m   (...)\u001b[0m\n\u001b[1;32m    634\u001b[0m \u001b[38;5;124;03m    :rtype: requests.Response\u001b[39;00m\n\u001b[1;32m    635\u001b[0m \u001b[38;5;124;03m    \"\"\"\u001b[39;00m\n\u001b[0;32m--> 637\u001b[0m     \u001b[38;5;28;01mreturn\u001b[39;00m \u001b[38;5;28mself\u001b[39m\u001b[38;5;241m.\u001b[39mrequest(\u001b[38;5;124m\"\u001b[39m\u001b[38;5;124mPOST\u001b[39m\u001b[38;5;124m\"\u001b[39m, url, data\u001b[38;5;241m=\u001b[39mdata, json\u001b[38;5;241m=\u001b[39mjson, \u001b[38;5;241m*\u001b[39m\u001b[38;5;241m*\u001b[39mkwargs)\n",
      "File \u001b[0;32m~/anaconda3/envs/batalhaitau/lib/python3.11/site-packages/qiskit_ibm_provider/api/session.py:285\u001b[0m, in \u001b[0;36mRetrySession.request\u001b[0;34m(self, method, url, bare, **kwargs)\u001b[0m\n\u001b[1;32m    281\u001b[0m         \u001b[38;5;28;01mexcept\u001b[39;00m \u001b[38;5;167;01mException\u001b[39;00m:  \u001b[38;5;66;03m# pylint: disable=broad-except\u001b[39;00m\n\u001b[1;32m    282\u001b[0m             \u001b[38;5;66;03m# the response did not contain the expected json.\u001b[39;00m\n\u001b[1;32m    283\u001b[0m             message \u001b[38;5;241m+\u001b[39m\u001b[38;5;241m=\u001b[39m \u001b[38;5;124mf\u001b[39m\u001b[38;5;124m\"\u001b[39m\u001b[38;5;124m. \u001b[39m\u001b[38;5;132;01m{\u001b[39;00mex\u001b[38;5;241m.\u001b[39mresponse\u001b[38;5;241m.\u001b[39mtext\u001b[38;5;132;01m}\u001b[39;00m\u001b[38;5;124m\"\u001b[39m\n\u001b[0;32m--> 285\u001b[0m     \u001b[38;5;28;01mraise\u001b[39;00m RequestsApiError(message, status_code) \u001b[38;5;28;01mfrom\u001b[39;00m \u001b[38;5;21;01mex\u001b[39;00m\n\u001b[1;32m    287\u001b[0m \u001b[38;5;28;01mreturn\u001b[39;00m response\n",
      "\u001b[0;31mRequestsApiError\u001b[0m: '401 Client Error: Unauthorized for url: https://auth.quantum-computing.ibm.com/api/users/loginWithToken. Login failed., Error code: 3446.'"
     ]
    }
   ],
   "source": [
    "# desenvolva seu código abaixo\n",
    "seed = 120\n",
    "\n",
    "qubo = carrega_problema_qubo(seed)\n",
    "\n",
    "service1 = QiskitRuntimeService(instance=f\"itau-unibanco/batalha-de-quant/{project}\")\n",
    "backend1 = service.backend(\"ibmq_qasm_simulator\")"
   ]
  },
  {
   "cell_type": "code",
   "execution_count": 22,
   "metadata": {},
   "outputs": [],
   "source": [
    "# QAOA \n",
    "from qiskit.quantum_info import Pauli\n",
    "from qiskit import QuantumCircuit\n",
    "\n",
    "def create_initial_state_circuit(n_qubits):\n",
    "    \"\"\"\n",
    "    Cria um circuito quântico para o estado inicial |+⟩^⨁n_qubits.\n",
    "    \n",
    "    Parameters:\n",
    "        n_qubits (int): Número de qubits no circuito.\n",
    "\n",
    "    Returns:\n",
    "        QuantumCircuit: Circuito quântico do estado inicial.\n",
    "    \"\"\"\n",
    "    initial_state_circuit = QuantumCircuit(n_qubits)\n",
    "    initial_state_circuit.h(range(n_qubits))\n",
    "    return initial_state_circuit\n",
    "\n",
    "\n",
    "def create_xy_mixer_circuit(n_qubits, gamma):\n",
    "    \"\"\"\n",
    "    Cria um circuito quântico para o mixer XY com o parâmetro de mistura gamma.\n",
    "\n",
    "    Parameters:\n",
    "        n_qubits (int): Número de qubits no circuito.\n",
    "        gamma (float): Parâmetro de mistura para o mixer XY.\n",
    "\n",
    "    Returns:\n",
    "        QuantumCircuit: Circuito quântico do mixer XY.\n",
    "    \"\"\"\n",
    "    mixer_circuit = QuantumCircuit(n_qubits)\n",
    "    \n",
    "    # Aplicar operadores XY para cada par de qubits adjacentes\n",
    "    for qubit in range(n_qubits - 1):\n",
    "        mixer_circuit.rx(-gamma, qubit)\n",
    "        mixer_circuit.ry(-gamma, qubit)\n",
    "        mixer_circuit.cx(qubit, qubit + 1)\n",
    "        mixer_circuit.rx(gamma, qubit + 1)\n",
    "        mixer_circuit.ry(gamma, qubit + 1)\n",
    "        mixer_circuit.cx(qubit, qubit + 1)\n",
    "    \n",
    "    return mixer_circuit\n",
    "\n",
    "def create_dicke_state_circuit(num_qubits, num_ones):\n",
    "    circuit = QuantumCircuit(num_qubits)\n",
    "    \n",
    "    # Apply Hadamard gates to all qubits\n",
    "    for qubit in range(num_qubits):\n",
    "        circuit.h(qubit)\n",
    "    \n",
    "    # Apply X gates to set specific qubits to |1⟩\n",
    "    ones_indices = [0, 2, 4]  # Replace with the indices where you want |1⟩\n",
    "    for index in ones_indices:\n",
    "        circuit.x(index)\n",
    "    \n",
    "    return circuit\n",
    "\n",
    "num_qubits = 6"
   ]
  },
  {
   "cell_type": "code",
   "execution_count": 23,
   "metadata": {},
   "outputs": [
    {
     "name": "stdout",
     "output_type": "stream",
     "text": [
      "Offset: 1.9059851134052508\n",
      "Ising Hamiltonian:\n",
      "SparsePauliOp(['IIIIIZ', 'IIIIZI', 'IIIZII', 'IIZIII', 'IZIIII', 'ZIIIII', 'IIIIZZ', 'IIIZIZ', 'IIZIIZ', 'IZIIIZ', 'ZIIIIZ', 'IIIZZI', 'IIZIZI', 'IZIIZI', 'ZIIIZI', 'IIZZII', 'IZIZII', 'ZIIZII', 'IZZIII', 'ZIZIII', 'ZZIIII'],\n",
      "              coeffs=[1.75954875e-02+0.j, 1.46333071e-02+0.j, 1.95960230e-02+0.j,\n",
      " 2.12903118e-02+0.j, 1.46844721e-02+0.j, 1.13287270e-02+0.j,\n",
      " 6.74161708e-01+0.j, 1.24016554e-03+0.j, 2.26719779e-04+0.j,\n",
      " 6.18002687e-05+0.j, 1.92149177e-03+0.j, 1.81192357e-03+0.j,\n",
      " 3.28805363e-04+0.j, 8.96529928e-05+0.j, 2.86906492e-03+0.j,\n",
      " 6.73127846e-01+0.j, 9.46720666e-05+0.j, 2.24319573e-03+0.j,\n",
      " 3.32682839e-05+0.j, 4.00348833e-04+0.j, 6.72873829e-01+0.j])\n"
     ]
    },
    {
     "name": "stderr",
     "output_type": "stream",
     "text": [
      "/home/barbara/anaconda3/envs/batalhaitau/lib/python3.11/site-packages/qiskit/visualization/circuit/matplotlib.py:266: FutureWarning: The default matplotlib drawer scheme will be changed to \"iqp\" in a following release. To silence this warning, specify the current default explicitly as style=\"clifford\", or the new default as style=\"iqp\".\n",
      "  self._style, def_font_ratio = load_style(self._style)\n",
      "/home/barbara/anaconda3/envs/batalhaitau/lib/python3.11/site-packages/qiskit/visualization/circuit/matplotlib.py:266: FutureWarning: The default matplotlib drawer scheme will be changed to \"iqp\" in a following release. To silence this warning, specify the current default explicitly as style=\"clifford\", or the new default as style=\"iqp\".\n",
      "  self._style, def_font_ratio = load_style(self._style)\n"
     ]
    },
    {
     "data": {
      "image/png": "[encoded data removed]",
      "text/plain": [
       "<Figure size 2210.55x4046.78 with 1 Axes>"
      ]
     },
     "execution_count": 23,
     "metadata": {},
     "output_type": "execute_result"
    }
   ],
   "source": [
    "# Converte o QUBO para Ising Hamiltoniano\n",
    "# Problem to Hamiltonian operator\n",
    "gamma = 1\n",
    "\n",
    "qubitOp, offset = qubo.to_ising()\n",
    "print(\"Offset:\", offset)\n",
    "print(\"Ising Hamiltonian:\")\n",
    "print(str(qubitOp))\n",
    "\n",
    "# QAOA ansatz circuit\n",
    "# mixer está dando erro\n",
    "    # possível solução: compatibilizar com os parametros iniciais\n",
    "ansatz = QAOAAnsatz(qubitOp, reps=2, mixer_operator = create_xy_mixer_circuit(num_qubits, gamma), initial_state=create_dicke_state_circuit(6, 3))\n",
    "# Draw\n",
    "ansatz.decompose(reps=3).draw(output=\"mpl\")\n",
    "\n",
    "ansatz.decompose().draw(\"mpl\")"
   ]
  },
  {
   "cell_type": "code",
   "execution_count": 24,
   "metadata": {},
   "outputs": [],
   "source": [
    "def cost_func(params, ansatz, hamiltonian, estimator):\n",
    "    \"\"\"Return estimate of energy from estimator\n",
    "\n",
    "    Parameters:\n",
    "        params (ndarray): Array of ansatz parameters\n",
    "        ansatz (QuantumCircuit): Parameterized ansatz circuit\n",
    "        hamiltonian (SparsePauliOp): Operator representation of Hamiltonian\n",
    "        estimator (Estimator): Estimator primitive instance\n",
    "\n",
    "    Returns:\n",
    "        float: Energy estimate\n",
    "    \"\"\"\n",
    "    cost = estimator.run(ansatz, hamiltonian, parameter_values=params, job_tags = [\"HACKA04\"]).result().values[0]\n",
    "    return cost"
   ]
  },
  {
   "cell_type": "code",
   "execution_count": 25,
   "metadata": {},
   "outputs": [
    {
     "data": {
      "text/plain": [
       "array([2.35330497, 5.97351416])"
      ]
     },
     "execution_count": 25,
     "metadata": {},
     "output_type": "execute_result"
    }
   ],
   "source": [
    "x0 = 2 * np.pi * np.random.rand(ansatz.num_parameters)\n",
    "x0"
   ]
  },
  {
   "cell_type": "code",
   "execution_count": 26,
   "metadata": {},
   "outputs": [
    {
     "name": "stdout",
     "output_type": "stream",
     "text": [
      "Execution time: 80.87917947769165 seconds\n",
      "Variation cost (greater energy - least energy): 0.1615529189318905\n"
     ]
    },
    {
     "data": {
      "image/png": "[encoded data removed]",
      "text/plain": [
       "<Figure size 640x480 with 1 Axes>"
      ]
     },
     "metadata": {},
     "output_type": "display_data"
    }
   ],
   "source": [
    "import time\n",
    "\n",
    "fun_values = []\n",
    "menor_energia = 9999\n",
    "maior_energia = -9999\n",
    "epocas = 30\n",
    "\n",
    "start_time = time.time()\n",
    "for epoca in range(epocas):\n",
    "    res = scipy.optimize.minimize(cost_func, x0, args=(ansatz, qubitOp, estimator), method=\"COBYLA\")\n",
    "    x0 = res.x\n",
    "    fun_values.append(res.fun)\n",
    "    if(res.fun < menor_energia):\n",
    "        menor_energia = res.fun\n",
    "        best_res = res\n",
    "        \n",
    "    if(res.fun > maior_energia):\n",
    "        maior_energia = res.fun\n",
    "        \n",
    "end_time = time.time()\n",
    "\n",
    "print(f\"Execution time: {end_time-start_time} seconds\")\n",
    "print(f\"Variation cost (greater energy - least energy): {maior_energia - menor_energia}\")\n",
    "    \n",
    "plt.plot(np.arange(1, epocas+1), fun_values, marker='o')\n",
    "plt.title('Valores de res.fun em cada iteração')\n",
    "plt.xlabel('Iteração')\n",
    "plt.ylabel('res.fun')\n",
    "plt.show()"
   ]
  },
  {
   "cell_type": "code",
   "execution_count": 27,
   "metadata": {},
   "outputs": [
    {
     "data": {
      "text/plain": [
       " message: Optimization terminated successfully.\n",
       " success: True\n",
       "  status: 1\n",
       "     fun: -0.5810663379603447\n",
       "       x: [ 3.416e+00  5.818e+00]\n",
       "    nfev: 26\n",
       "   maxcv: 0.0"
      ]
     },
     "execution_count": 27,
     "metadata": {},
     "output_type": "execute_result"
    }
   ],
   "source": [
    "best_res"
   ]
  },
  {
   "cell_type": "code",
   "execution_count": 28,
   "metadata": {},
   "outputs": [],
   "source": [
    "# Assign solution parameters to ansatz\n",
    "qc = ansatz.assign_parameters(best_res.x)\n",
    "# Add measurements to our circuit\n",
    "qc.measure_all()"
   ]
  },
  {
   "cell_type": "code",
   "execution_count": 29,
   "metadata": {},
   "outputs": [],
   "source": [
    "# Sample ansatz at optimal parameters\n",
    "samp_dist = sampler.run(qc, shots=int(1e2)).result().quasi_dists[0]"
   ]
  },
  {
   "cell_type": "code",
   "execution_count": 30,
   "metadata": {},
   "outputs": [
    {
     "data": {
      "image/png": "[encoded data removed]",
      "text/plain": [
       "<Figure size 1500x500 with 1 Axes>"
      ]
     },
     "execution_count": 30,
     "metadata": {},
     "output_type": "execute_result"
    }
   ],
   "source": [
    "plot_distribution(samp_dist.binary_probabilities(), figsize=(15, 5))"
   ]
  },
  {
   "cell_type": "code",
   "execution_count": 31,
   "metadata": {},
   "outputs": [
    {
     "name": "stdout",
     "output_type": "stream",
     "text": [
      "O valor mais frequente nas estatísticas é: 100110\n",
      "----------------------------------------------------------------------------------------------------\n",
      "Estatísticas da carteira\n",
      "----------------------------------------------------------------------------------------------------\n",
      "variaveis_resposta: [1 0 0 1 1 0]\n",
      "funcao_objetivo: -0.11901964744963879\n",
      "quantidade_produtos: 3\n",
      "avaliacao_risco: 2\n",
      "risco: 0.06796058561800365\n",
      "retorno: 0.1236382886471808\n",
      "sharpe: 1.8192646152599865\n",
      "alocacao: 1.0\n",
      "----------------------------------------------------------------------------------------------------\n",
      "Produtos selecionados\n",
      "----------------------------------------------------------------------------------------------------\n",
      "      classe     produto  aval  aloc\n",
      "45  classe_1  produto_45     1   0.3\n",
      "63  classe_2  produto_63     0   0.3\n",
      "93  classe_3  produto_93     1   0.4\n"
     ]
    }
   ],
   "source": [
    "from operator import itemgetter\n",
    "\n",
    "binary_probs = samp_dist.binary_probabilities()\n",
    "max_prob_key = max(binary_probs.items(), key=itemgetter(1))[0]\n",
    "max_prob_key_invertida = max_prob_key[::-1]\n",
    "\n",
    "print(\"O valor mais frequente nas estatísticas é:\", max_prob_key_invertida)\n",
    "\n",
    "vetor_resposta = [int(bit) for bit in max_prob_key_invertida]\n",
    "vetor_resposta\n",
    "variaveis_resposta = np.array(vetor_resposta)\n",
    "\n",
    "gera_relatorio(seed, variaveis_resposta=variaveis_resposta)"
   ]
  },
  {
   "cell_type": "code",
   "execution_count": 32,
   "metadata": {},
   "outputs": [
    {
     "ename": "NameError",
     "evalue": "name 'provider' is not defined",
     "output_type": "error",
     "traceback": [
      "\u001b[0;31m---------------------------------------------------------------------------\u001b[0m",
      "\u001b[0;31mNameError\u001b[0m                                 Traceback (most recent call last)",
      "Cell \u001b[0;32mIn[32], line 3\u001b[0m\n\u001b[1;32m      1\u001b[0m \u001b[38;5;28;01mfrom\u001b[39;00m \u001b[38;5;21;01mqiskit_ibm_provider\u001b[39;00m \u001b[38;5;28;01mimport\u001b[39;00m least_busy\n\u001b[0;32m----> 3\u001b[0m devices \u001b[38;5;241m=\u001b[39m provider\u001b[38;5;241m.\u001b[39mbackends(simulator\u001b[38;5;241m=\u001b[39m\u001b[38;5;28;01mFalse\u001b[39;00m, operational\u001b[38;5;241m=\u001b[39m\u001b[38;5;28;01mTrue\u001b[39;00m)\n\u001b[1;32m      4\u001b[0m backend_least_busy \u001b[38;5;241m=\u001b[39m least_busy(devices)\n\u001b[1;32m      6\u001b[0m display(backend_least_busy\u001b[38;5;241m.\u001b[39mstatus())\n",
      "\u001b[0;31mNameError\u001b[0m: name 'provider' is not defined"
     ]
    }
   ],
   "source": [
    "from qiskit_ibm_provider import least_busy\n",
    "\n",
    "devices = provider.backends(simulator=False, operational=True)\n",
    "backend_least_busy = least_busy(devices)\n",
    "\n",
    "display(backend_least_busy.status())\n",
    "\n",
    "# Sample ansatz at optimal parameters\n",
    "options = Options()\n",
    "options.transpilation.skip_transpilation = True\n",
    "options.execution.shots = 542\n",
    "\n",
    "session = Session(backend=backend_least_busy.name)\n",
    "\n",
    "estimatorHardware = Estimator(session=session, options={\"shots\": int(1e2)})"
   ]
  },
  {
   "cell_type": "code",
   "execution_count": 33,
   "metadata": {},
   "outputs": [
    {
     "data": {
      "text/plain": [
       "array([3.41601369, 5.81810689])"
      ]
     },
     "execution_count": 33,
     "metadata": {},
     "output_type": "execute_result"
    }
   ],
   "source": [
    "x0 = best_res.x\n",
    "x0"
   ]
  },
  {
   "cell_type": "code",
   "execution_count": 12,
   "metadata": {},
   "outputs": [
    {
     "ename": "NameError",
     "evalue": "name 'x0' is not defined",
     "output_type": "error",
     "traceback": [
      "\u001b[0;31m---------------------------------------------------------------------------\u001b[0m",
      "\u001b[0;31mNameError\u001b[0m                                 Traceback (most recent call last)",
      "Cell \u001b[0;32mIn[12], line 10\u001b[0m\n\u001b[1;32m      8\u001b[0m start_time \u001b[38;5;241m=\u001b[39m time\u001b[38;5;241m.\u001b[39mtime()\n\u001b[1;32m      9\u001b[0m \u001b[38;5;28;01mfor\u001b[39;00m epoca \u001b[38;5;129;01min\u001b[39;00m \u001b[38;5;28mrange\u001b[39m(epocas):\n\u001b[0;32m---> 10\u001b[0m     res \u001b[38;5;241m=\u001b[39m scipy\u001b[38;5;241m.\u001b[39moptimize\u001b[38;5;241m.\u001b[39mminimize(cost_func, x0, args\u001b[38;5;241m=\u001b[39m(ansatz, qubitOp, estimatorHardware), method\u001b[38;5;241m=\u001b[39m\u001b[38;5;124m\"\u001b[39m\u001b[38;5;124mCOBYLA\u001b[39m\u001b[38;5;124m\"\u001b[39m)\n\u001b[1;32m     11\u001b[0m     x0 \u001b[38;5;241m=\u001b[39m res\u001b[38;5;241m.\u001b[39mx\n\u001b[1;32m     12\u001b[0m     fun_values\u001b[38;5;241m.\u001b[39mappend(res\u001b[38;5;241m.\u001b[39mfun)\n",
      "\u001b[0;31mNameError\u001b[0m: name 'x0' is not defined"
     ]
    }
   ],
   "source": [
    "import time\n",
    "\n",
    "fun_values = []\n",
    "menor_energia = 9999\n",
    "maior_energia = -9999\n",
    "epocas = 1\n",
    "\n",
    "start_time = time.time()\n",
    "for epoca in range(epocas):\n",
    "    res = scipy.optimize.minimize(cost_func, x0, args=(ansatz, qubitOp, estimatorHardware), method=\"COBYLA\")\n",
    "    x0 = res.x\n",
    "    fun_values.append(res.fun)\n",
    "    if(res.fun < menor_energia):\n",
    "        menor_energia = res.fun\n",
    "        best_res_hardware = res\n",
    "        \n",
    "    if(res.fun > maior_energia):\n",
    "        maior_energia = res.fun\n",
    "        \n",
    "end_time = time.time()\n",
    "\n",
    "print(f\"Execution time: {end_time-start_time} seconds\")\n",
    "print(f\"Variation cost (greater energy - least energy): {maior_energia - menor_energia}\")\n",
    "    \n",
    "plt.plot(np.arange(1, epocas+1), fun_values, marker='o')\n",
    "plt.title('Valores de res.fun em cada iteração')\n",
    "plt.xlabel('Iteração')\n",
    "plt.ylabel('res.fun')\n",
    "plt.show()"
   ]
  },
  {
   "cell_type": "code",
   "execution_count": 34,
   "metadata": {},
   "outputs": [
    {
     "ename": "NameError",
     "evalue": "name 'best_res_hardware' is not defined",
     "output_type": "error",
     "traceback": [
      "\u001b[0;31m---------------------------------------------------------------------------\u001b[0m",
      "\u001b[0;31mNameError\u001b[0m                                 Traceback (most recent call last)",
      "Cell \u001b[0;32mIn[34], line 1\u001b[0m\n\u001b[0;32m----> 1\u001b[0m best_res_hardware\n",
      "\u001b[0;31mNameError\u001b[0m: name 'best_res_hardware' is not defined"
     ]
    }
   ],
   "source": [
    "best_res_hardware"
   ]
  },
  {
   "cell_type": "code",
   "execution_count": 35,
   "metadata": {},
   "outputs": [
    {
     "ename": "NameError",
     "evalue": "name 'best_res_hardware' is not defined",
     "output_type": "error",
     "traceback": [
      "\u001b[0;31m---------------------------------------------------------------------------\u001b[0m",
      "\u001b[0;31mNameError\u001b[0m                                 Traceback (most recent call last)",
      "Cell \u001b[0;32mIn[35], line 2\u001b[0m\n\u001b[1;32m      1\u001b[0m \u001b[38;5;66;03m# Assign solution parameters to ansatz\u001b[39;00m\n\u001b[0;32m----> 2\u001b[0m qc_hardware \u001b[38;5;241m=\u001b[39m ansatz\u001b[38;5;241m.\u001b[39massign_parameters(best_res_hardware\u001b[38;5;241m.\u001b[39mx)\n\u001b[1;32m      3\u001b[0m \u001b[38;5;66;03m# Add measurements to our circuit\u001b[39;00m\n\u001b[1;32m      4\u001b[0m qc_hardware\u001b[38;5;241m.\u001b[39mmeasure_all()\n",
      "\u001b[0;31mNameError\u001b[0m: name 'best_res_hardware' is not defined"
     ]
    }
   ],
   "source": [
    "# Assign solution parameters to ansatz\n",
    "qc_hardware = ansatz.assign_parameters(best_res_hardware.x)\n",
    "# Add measurements to our circuit\n",
    "qc_hardware.measure_all()"
   ]
  },
  {
   "cell_type": "code",
   "execution_count": 36,
   "metadata": {},
   "outputs": [
    {
     "ename": "NameError",
     "evalue": "name 'session' is not defined",
     "output_type": "error",
     "traceback": [
      "\u001b[0;31m---------------------------------------------------------------------------\u001b[0m",
      "\u001b[0;31mNameError\u001b[0m                                 Traceback (most recent call last)",
      "Cell \u001b[0;32mIn[36], line 4\u001b[0m\n\u001b[1;32m      2\u001b[0m samp_dist \u001b[38;5;241m=\u001b[39m sampler\u001b[38;5;241m.\u001b[39mrun(qc, shots\u001b[38;5;241m=\u001b[39m\u001b[38;5;28mint\u001b[39m(\u001b[38;5;241m1e2\u001b[39m), job_tags \u001b[38;5;241m=\u001b[39m [\u001b[38;5;124m\"\u001b[39m\u001b[38;5;124mHACKA04\u001b[39m\u001b[38;5;124m\"\u001b[39m])\u001b[38;5;241m.\u001b[39mresult()\u001b[38;5;241m.\u001b[39mquasi_dists[\u001b[38;5;241m0\u001b[39m]\n\u001b[1;32m      3\u001b[0m \u001b[38;5;66;03m# Close the session since we are now done with it\u001b[39;00m\n\u001b[0;32m----> 4\u001b[0m session\u001b[38;5;241m.\u001b[39mclose()\n",
      "\u001b[0;31mNameError\u001b[0m: name 'session' is not defined"
     ]
    }
   ],
   "source": [
    "# Sample ansatz at optimal parameters\n",
    "samp_dist = sampler.run(qc, shots=int(1e2), job_tags = [\"HACKA04\"]).result().quasi_dists[0]\n",
    "# Close the session since we are now done with it\n",
    "session.close()"
   ]
  },
  {
   "cell_type": "code",
   "execution_count": 37,
   "metadata": {},
   "outputs": [
    {
     "data": {
      "image/png": "[encoded data removed]",
      "text/plain": [
       "<Figure size 1500x500 with 1 Axes>"
      ]
     },
     "execution_count": 37,
     "metadata": {},
     "output_type": "execute_result"
    }
   ],
   "source": [
    "plot_distribution(samp_dist.binary_probabilities(), figsize=(15, 5))"
   ]
  },
  {
   "cell_type": "code",
   "execution_count": 38,
   "metadata": {},
   "outputs": [
    {
     "name": "stdout",
     "output_type": "stream",
     "text": [
      "O valor mais frequente nas estatísticas é: 100110\n",
      "----------------------------------------------------------------------------------------------------\n",
      "Estatísticas da carteira\n",
      "----------------------------------------------------------------------------------------------------\n",
      "variaveis_resposta: [1 0 0 1 1 0]\n",
      "funcao_objetivo: -0.11901964744963879\n",
      "quantidade_produtos: 3\n",
      "avaliacao_risco: 2\n",
      "risco: 0.06796058561800365\n",
      "retorno: 0.1236382886471808\n",
      "sharpe: 1.8192646152599865\n",
      "alocacao: 1.0\n",
      "----------------------------------------------------------------------------------------------------\n",
      "Produtos selecionados\n",
      "----------------------------------------------------------------------------------------------------\n",
      "      classe     produto  aval  aloc\n",
      "45  classe_1  produto_45     1   0.3\n",
      "63  classe_2  produto_63     0   0.3\n",
      "93  classe_3  produto_93     1   0.4\n"
     ]
    }
   ],
   "source": [
    "from operator import itemgetter\n",
    "\n",
    "binary_probs = samp_dist.binary_probabilities()\n",
    "max_prob_key = max(binary_probs.items(), key=itemgetter(1))[0]\n",
    "max_prob_key_invertida = max_prob_key[::-1]\n",
    "\n",
    "print(\"O valor mais frequente nas estatísticas é:\", max_prob_key_invertida)\n",
    "\n",
    "vetor_resposta = [int(bit) for bit in max_prob_key_invertida]\n",
    "vetor_resposta\n",
    "variaveis_resposta = np.array(vetor_resposta)\n",
    "\n",
    "gera_relatorio(seed, variaveis_resposta=variaveis_resposta)"
   ]
  },
  {
   "cell_type": "markdown",
   "metadata": {},
   "source": [
    "### VQE"
   ]
  },
  {
   "cell_type": "code",
   "execution_count": 15,
   "metadata": {},
   "outputs": [],
   "source": [
    "# Não altere nada nas linhas de código dessa célula!\n",
    "\n",
    "seed_list = [21, 71, 120]\n",
    "shots = 10**4\n",
    "backend = AerSimulator(method=\"matrix_product_state\")\n",
    "estimator = BackendEstimator(backend=backend)\n",
    "sampler = BackendSampler(backend=backend)\n",
    "dict_alocacao = {\"classe_1\": 0.3,\n",
    "                 \"classe_2\": 0.3,\n",
    "                 \"classe_3\": 0.4}\n",
    "dict_quantidade_produtos = {\"classe_1\": 1,\n",
    "                            \"classe_2\": 1,\n",
    "                            \"classe_3\": 1}\n",
    "aval_limite_dict = {21: 4,\n",
    "                    71: 4}"
   ]
  },
  {
   "cell_type": "code",
   "execution_count": 16,
   "metadata": {},
   "outputs": [
    {
     "ename": "NameError",
     "evalue": "name 'service' is not defined",
     "output_type": "error",
     "traceback": [
      "\u001b[0;31m---------------------------------------------------------------------------\u001b[0m",
      "\u001b[0;31mNameError\u001b[0m                                 Traceback (most recent call last)",
      "Cell \u001b[0;32mIn[16], line 7\u001b[0m\n\u001b[1;32m      4\u001b[0m qubo \u001b[38;5;241m=\u001b[39m carrega_problema_qubo(seed)\n\u001b[1;32m      6\u001b[0m \u001b[38;5;66;03m#service1 = QiskitRuntimeService(instance=f\"itau-unibanco/batalha-de-quant/{project}\")\u001b[39;00m\n\u001b[0;32m----> 7\u001b[0m backend1 \u001b[38;5;241m=\u001b[39m service\u001b[38;5;241m.\u001b[39mbackend(\u001b[38;5;124m\"\u001b[39m\u001b[38;5;124mibmq_qasm_simulator\u001b[39m\u001b[38;5;124m\"\u001b[39m)\n",
      "\u001b[0;31mNameError\u001b[0m: name 'service' is not defined"
     ]
    }
   ],
   "source": [
    "# desenvolva seu código abaixo\n",
    "seed = 120\n",
    "\n",
    "qubo = carrega_problema_qubo(seed)\n",
    "\n",
    "#service1 = QiskitRuntimeService(instance=f\"itau-unibanco/batalha-de-quant/{project}\")\n",
    "backend1 = service.backend(\"ibmq_qasm_simulator\")"
   ]
  },
  {
   "cell_type": "code",
   "execution_count": 17,
   "metadata": {},
   "outputs": [
    {
     "data": {
      "image/png": "[encoded data removed]",
      "text/plain": [
       "<Figure size 705.552x535.111 with 1 Axes>"
      ]
     },
     "execution_count": 17,
     "metadata": {},
     "output_type": "execute_result"
    }
   ],
   "source": [
    "ansatz = TwoLocal(num_qubits=6,\n",
    "                  rotation_blocks=[\"ry\"],\n",
    "                  entanglement_blocks=\"cz\",\n",
    "                  entanglement=\"full\",\n",
    "                  reps=1,\n",
    "                  skip_final_rotation_layer=False)\n",
    "\n",
    "ansatz.draw(output=\"mpl\", style=\"clifford\")"
   ]
  },
  {
   "cell_type": "code",
   "execution_count": 18,
   "metadata": {},
   "outputs": [
    {
     "data": {
      "image/png": "[encoded data removed]",
      "text/plain": [
       "<Figure size 1541.66x535.111 with 1 Axes>"
      ]
     },
     "execution_count": 18,
     "metadata": {},
     "output_type": "execute_result"
    }
   ],
   "source": [
    "ansatz.decompose().draw(output=\"mpl\", style=\"clifford\")"
   ]
  },
  {
   "cell_type": "code",
   "execution_count": 19,
   "metadata": {},
   "outputs": [
    {
     "data": {
      "text/plain": [
       "OrderedDict([('cz', 15), ('ry', 12)])"
      ]
     },
     "execution_count": 19,
     "metadata": {},
     "output_type": "execute_result"
    }
   ],
   "source": [
    "ansatz.decompose().count_ops()"
   ]
  },
  {
   "cell_type": "code",
   "execution_count": 20,
   "metadata": {},
   "outputs": [
    {
     "data": {
      "text/plain": [
       "11"
      ]
     },
     "execution_count": 20,
     "metadata": {},
     "output_type": "execute_result"
    }
   ],
   "source": [
    "ansatz.decompose().depth()"
   ]
  },
  {
   "cell_type": "code",
   "execution_count": 21,
   "metadata": {},
   "outputs": [
    {
     "name": "stdout",
     "output_type": "stream",
     "text": [
      "Offset: 1.9059851134052508\n",
      "Ising Hamiltonian:\n",
      "SparsePauliOp(['IIIIIZ', 'IIIIZI', 'IIIZII', 'IIZIII', 'IZIIII', 'ZIIIII', 'IIIIZZ', 'IIIZIZ', 'IIZIIZ', 'IZIIIZ', 'ZIIIIZ', 'IIIZZI', 'IIZIZI', 'IZIIZI', 'ZIIIZI', 'IIZZII', 'IZIZII', 'ZIIZII', 'IZZIII', 'ZIZIII', 'ZZIIII'],\n",
      "              coeffs=[1.75954875e-02+0.j, 1.46333071e-02+0.j, 1.95960230e-02+0.j,\n",
      " 2.12903118e-02+0.j, 1.46844721e-02+0.j, 1.13287270e-02+0.j,\n",
      " 6.74161708e-01+0.j, 1.24016554e-03+0.j, 2.26719779e-04+0.j,\n",
      " 6.18002687e-05+0.j, 1.92149177e-03+0.j, 1.81192357e-03+0.j,\n",
      " 3.28805363e-04+0.j, 8.96529928e-05+0.j, 2.86906492e-03+0.j,\n",
      " 6.73127846e-01+0.j, 9.46720666e-05+0.j, 2.24319573e-03+0.j,\n",
      " 3.32682839e-05+0.j, 4.00348833e-04+0.j, 6.72873829e-01+0.j])\n"
     ]
    }
   ],
   "source": [
    "# VQE\n",
    "# Converte o QUBO para Ising Hamiltoniano\n",
    "#import pyqubo\n",
    "#from pyqubo import Spin\n",
    "qubitOp, offset = qubo.to_ising()\n",
    "print(\"Offset:\", offset)\n",
    "print(\"Ising Hamiltonian:\")\n",
    "print(str(qubitOp))\n",
    "\n",
    "\"\"\"# Rodando o VQE\"\"\"\n",
    "\n",
    "initial_point = [1 for _ in range(12)]\n",
    "\n",
    "vqe_solver = VQE(estimator=estimator,\n",
    "                     ansatz=ansatz,\n",
    "                     optimizer=COBYLA(maxiter=200),\n",
    "                     initial_point=initial_point)\n",
    "\n",
    "resultado_vqe = vqe_solver.compute_minimum_eigenvalue(qubo.to_ising()[0])\n",
    "\n",
    "ansatz = ansatz.decompose().assign_parameters(resultado_vqe.optimal_parameters)\n",
    "ansatz.measure_all()\n",
    "counts = AerSimulator().run(ansatz, shots=8192).result().get_counts()"
   ]
  },
  {
   "cell_type": "code",
   "execution_count": 22,
   "metadata": {},
   "outputs": [
    {
     "data": {
      "image/png": "[encoded data removed]",
      "text/plain": [
       "<Figure size 2500x500 with 1 Axes>"
      ]
     },
     "execution_count": 22,
     "metadata": {},
     "output_type": "execute_result"
    }
   ],
   "source": [
    "plot_histogram(counts, figsize=(25, 5))"
   ]
  },
  {
   "cell_type": "code",
   "execution_count": 23,
   "metadata": {},
   "outputs": [],
   "source": [
    "counts_list = list(counts.values())\n",
    "max_counts = max(counts_list)\n",
    "max_count_idx = counts_list.index(max_counts)"
   ]
  },
  {
   "cell_type": "code",
   "execution_count": 24,
   "metadata": {},
   "outputs": [
    {
     "name": "stdout",
     "output_type": "stream",
     "text": [
      "[0 1 1 0 1 0]\n"
     ]
    }
   ],
   "source": [
    "answer_vqe = list(counts.keys())[max_count_idx][::-1]\n",
    "answer_vqe = np.array([int(char) for char in answer_vqe])\n",
    "print(answer_vqe)"
   ]
  },
  {
   "cell_type": "code",
   "execution_count": 25,
   "metadata": {
    "scrolled": true
   },
   "outputs": [
    {
     "name": "stdout",
     "output_type": "stream",
     "text": [
      "----------------------------------------------------------------------------------------------------\n",
      "Estatísticas da carteira\n",
      "----------------------------------------------------------------------------------------------------\n",
      "variaveis_resposta: [0 1 1 0 1 0]\n",
      "funcao_objetivo: -0.11510903615195803\n",
      "quantidade_produtos: 3\n",
      "avaliacao_risco: 4\n",
      "risco: 0.1309154867133108\n",
      "retorno: 0.1322479008133411\n",
      "sharpe: 1.0101776660155426\n",
      "alocacao: 1.0\n",
      "----------------------------------------------------------------------------------------------------\n",
      "Produtos selecionados\n",
      "----------------------------------------------------------------------------------------------------\n",
      "      classe     produto  aval  aloc\n",
      "47  classe_1  produto_47     2   0.3\n",
      "92  classe_2  produto_92     1   0.3\n",
      "93  classe_3  produto_93     1   0.4\n"
     ]
    }
   ],
   "source": [
    "variaveis_resposta = np.array(answer_vqe)\n",
    "gera_relatorio(seed, variaveis_resposta=variaveis_resposta)"
   ]
  },
  {
   "cell_type": "markdown",
   "metadata": {},
   "source": [
    "## Seed: 21 (Médio)"
   ]
  },
  {
   "cell_type": "markdown",
   "metadata": {},
   "source": [
    "### QAOA"
   ]
  },
  {
   "cell_type": "code",
   "execution_count": null,
   "metadata": {},
   "outputs": [],
   "source": [
    "# desenvolva seu código abaixo\n",
    "seed = 21\n",
    "\n",
    "qubo = carrega_problema_qubo(seed)\n",
    "\n",
    "service1 = QiskitRuntimeService(instance=f\"itau-unibanco/batalha-de-quant/{project}\")\n",
    "backend1 = service.backend(\"ibmq_qasm_simulator\")"
   ]
  },
  {
   "cell_type": "code",
   "execution_count": null,
   "metadata": {},
   "outputs": [],
   "source": [
    "# QAOA \n",
    "from qiskit.quantum_info import Pauli\n",
    "from qiskit import QuantumCircuit\n",
    "\n",
    "def create_initial_state_circuit(n_qubits):\n",
    "    \"\"\"\n",
    "    Cria um circuito quântico para o estado inicial |+⟩^⨁n_qubits.\n",
    "    \n",
    "    Parameters:\n",
    "        n_qubits (int): Número de qubits no circuito.\n",
    "\n",
    "    Returns:\n",
    "        QuantumCircuit: Circuito quântico do estado inicial.\n",
    "    \"\"\"\n",
    "    initial_state_circuit = QuantumCircuit(n_qubits)\n",
    "    initial_state_circuit.h(range(n_qubits))\n",
    "    return initial_state_circuit\n",
    "\n",
    "\n",
    "def create_xy_mixer_circuit(n_qubits, gamma):\n",
    "    \"\"\"\n",
    "    Cria um circuito quântico para o mixer XY com o parâmetro de mistura gamma.\n",
    "\n",
    "    Parameters:\n",
    "        n_qubits (int): Número de qubits no circuito.\n",
    "        gamma (float): Parâmetro de mistura para o mixer XY.\n",
    "\n",
    "    Returns:\n",
    "        QuantumCircuit: Circuito quântico do mixer XY.\n",
    "    \"\"\"\n",
    "    mixer_circuit = QuantumCircuit(n_qubits)\n",
    "    \n",
    "    # Aplicar operadores XY para cada par de qubits adjacentes\n",
    "    for qubit in range(n_qubits - 1):\n",
    "        mixer_circuit.rx(-gamma, qubit)\n",
    "        mixer_circuit.ry(-gamma, qubit)\n",
    "        mixer_circuit.cx(qubit, qubit + 1)\n",
    "        mixer_circuit.rx(gamma, qubit + 1)\n",
    "        mixer_circuit.ry(gamma, qubit + 1)\n",
    "        mixer_circuit.cx(qubit, qubit + 1)\n",
    "    \n",
    "    return mixer_circuit\n",
    "\n",
    "def create_dicke_state_circuit(num_qubits, num_ones):\n",
    "    circuit = QuantumCircuit(num_qubits)\n",
    "    \n",
    "    # Apply Hadamard gates to all qubits\n",
    "    for qubit in range(num_qubits):\n",
    "        circuit.h(qubit)\n",
    "    \n",
    "    # Apply X gates to set specific qubits to |1⟩\n",
    "    ones_indices = [0, 2, 4]  # Replace with the indices where you want |1⟩\n",
    "    for index in ones_indices:\n",
    "        circuit.x(index)\n",
    "    \n",
    "    return circuit\n",
    "\n",
    "num_qubits = 6"
   ]
  },
  {
   "cell_type": "code",
   "execution_count": null,
   "metadata": {},
   "outputs": [],
   "source": [
    "# Converte o QUBO para Ising Hamiltoniano\n",
    "# Problem to Hamiltonian operator\n",
    "gamma = 1\n",
    "\n",
    "qubitOp, offset = qubo.to_ising()\n",
    "print(\"Offset:\", offset)\n",
    "print(\"Ising Hamiltonian:\")\n",
    "print(str(qubitOp))\n",
    "\n",
    "# QAOA ansatz circuit\n",
    "# mixer está dando erro\n",
    "    # possível solução: compatibilizar com os parametros iniciais\n",
    "ansatz = QAOAAnsatz(qubitOp, reps=2, mixer_operator = create_xy_mixer_circuit(num_qubits, gamma), initial_state=create_dicke_state_circuit(6, 3))\n",
    "# Draw\n",
    "ansatz.decompose(reps=3).draw(output=\"mpl\")\n",
    "\n",
    "ansatz.decompose().draw(\"mpl\")"
   ]
  },
  {
   "cell_type": "code",
   "execution_count": null,
   "metadata": {},
   "outputs": [],
   "source": [
    "def cost_func(params, ansatz, hamiltonian, estimator):\n",
    "    \"\"\"Return estimate of energy from estimator\n",
    "\n",
    "    Parameters:\n",
    "        params (ndarray): Array of ansatz parameters\n",
    "        ansatz (QuantumCircuit): Parameterized ansatz circuit\n",
    "        hamiltonian (SparsePauliOp): Operator representation of Hamiltonian\n",
    "        estimator (Estimator): Estimator primitive instance\n",
    "\n",
    "    Returns:\n",
    "        float: Energy estimate\n",
    "    \"\"\"\n",
    "    cost = estimator.run(ansatz, hamiltonian, parameter_values=params, job_tags = [\"HACKA04\"]).result().values[0]\n",
    "    return cost"
   ]
  },
  {
   "cell_type": "code",
   "execution_count": null,
   "metadata": {},
   "outputs": [],
   "source": [
    "x0 = 2 * np.pi * np.random.rand(ansatz.num_parameters)\n",
    "x0"
   ]
  },
  {
   "cell_type": "code",
   "execution_count": null,
   "metadata": {},
   "outputs": [],
   "source": [
    "import time\n",
    "\n",
    "fun_values = []\n",
    "menor_energia = 9999\n",
    "maior_energia = -9999\n",
    "epocas = 30\n",
    "\n",
    "start_time = time.time()\n",
    "for epoca in range(epocas):\n",
    "    res = scipy.optimize.minimize(cost_func, x0, args=(ansatz, qubitOp, estimator), method=\"COBYLA\")\n",
    "    x0 = res.x\n",
    "    fun_values.append(res.fun)\n",
    "    if(res.fun < menor_energia):\n",
    "        menor_energia = res.fun\n",
    "        best_res = res\n",
    "        \n",
    "    if(res.fun > maior_energia):\n",
    "        maior_energia = res.fun\n",
    "        \n",
    "end_time = time.time()\n",
    "\n",
    "print(f\"Execution time: {end_time-start_time} seconds\")\n",
    "print(f\"Variation cost (greater energy - least energy): {maior_energia - menor_energia}\")\n",
    "    \n",
    "plt.plot(np.arange(1, epocas+1), fun_values, marker='o')\n",
    "plt.title('Valores de res.fun em cada iteração')\n",
    "plt.xlabel('Iteração')\n",
    "plt.ylabel('res.fun')\n",
    "plt.show()"
   ]
  },
  {
   "cell_type": "code",
   "execution_count": null,
   "metadata": {},
   "outputs": [],
   "source": [
    "best_res"
   ]
  },
  {
   "cell_type": "code",
   "execution_count": null,
   "metadata": {},
   "outputs": [],
   "source": [
    "# Assign solution parameters to ansatz\n",
    "qc = ansatz.assign_parameters(best_res.x)\n",
    "# Add measurements to our circuit\n",
    "qc.measure_all()"
   ]
  },
  {
   "cell_type": "code",
   "execution_count": null,
   "metadata": {},
   "outputs": [],
   "source": [
    "# Sample ansatz at optimal parameters\n",
    "samp_dist = sampler.run(qc, shots=int(1e2)).result().quasi_dists[0]"
   ]
  },
  {
   "cell_type": "code",
   "execution_count": null,
   "metadata": {},
   "outputs": [],
   "source": [
    "plot_distribution(samp_dist.binary_probabilities(), figsize=(15, 5))"
   ]
  },
  {
   "cell_type": "code",
   "execution_count": null,
   "metadata": {},
   "outputs": [],
   "source": [
    "from operator import itemgetter\n",
    "\n",
    "binary_probs = samp_dist.binary_probabilities()\n",
    "max_prob_key = max(binary_probs.items(), key=itemgetter(1))[0]\n",
    "max_prob_key_invertida = max_prob_key[::-1]\n",
    "\n",
    "print(\"O valor mais frequente nas estatísticas é:\", max_prob_key_invertida)\n",
    "\n",
    "vetor_resposta = [int(bit) for bit in max_prob_key_invertida]\n",
    "vetor_resposta\n",
    "variaveis_resposta = np.array(vetor_resposta)\n",
    "\n",
    "gera_relatorio(seed, variaveis_resposta=variaveis_resposta)"
   ]
  },
  {
   "cell_type": "code",
   "execution_count": null,
   "metadata": {},
   "outputs": [],
   "source": [
    "from qiskit_ibm_provider import least_busy\n",
    "\n",
    "devices = provider.backends(simulator=False, operational=True)\n",
    "backend_least_busy = least_busy(devices)\n",
    "\n",
    "display(backend_least_busy.status())\n",
    "\n",
    "# Sample ansatz at optimal parameters\n",
    "options = Options()\n",
    "options.transpilation.skip_transpilation = True\n",
    "options.execution.shots = 542\n",
    "\n",
    "session = Session(backend=backend_least_busy.name)\n",
    "\n",
    "estimatorHardware = Estimator(session=session, options={\"shots\": int(1e2)})"
   ]
  },
  {
   "cell_type": "code",
   "execution_count": null,
   "metadata": {},
   "outputs": [],
   "source": [
    "x0 = best_res.x\n",
    "x0"
   ]
  },
  {
   "cell_type": "code",
   "execution_count": null,
   "metadata": {},
   "outputs": [],
   "source": [
    "import time\n",
    "\n",
    "fun_values = []\n",
    "menor_energia = 9999\n",
    "maior_energia = -9999\n",
    "epocas = 1\n",
    "\n",
    "start_time = time.time()\n",
    "for epoca in range(epocas):\n",
    "    res = scipy.optimize.minimize(cost_func, x0, args=(ansatz, qubitOp, estimatorHardware), method=\"COBYLA\")\n",
    "    x0 = res.x\n",
    "    fun_values.append(res.fun)\n",
    "    if(res.fun < menor_energia):\n",
    "        menor_energia = res.fun\n",
    "        best_res_hardware = res\n",
    "        \n",
    "    if(res.fun > maior_energia):\n",
    "        maior_energia = res.fun\n",
    "        \n",
    "end_time = time.time()\n",
    "\n",
    "print(f\"Execution time: {end_time-start_time} seconds\")\n",
    "print(f\"Variation cost (greater energy - least energy): {maior_energia - menor_energia}\")\n",
    "    \n",
    "plt.plot(np.arange(1, epocas+1), fun_values, marker='o')\n",
    "plt.title('Valores de res.fun em cada iteração')\n",
    "plt.xlabel('Iteração')\n",
    "plt.ylabel('res.fun')\n",
    "plt.show()"
   ]
  },
  {
   "cell_type": "code",
   "execution_count": null,
   "metadata": {},
   "outputs": [],
   "source": [
    "best_res_hardware"
   ]
  },
  {
   "cell_type": "code",
   "execution_count": null,
   "metadata": {},
   "outputs": [],
   "source": [
    "# Assign solution parameters to ansatz\n",
    "qc_hardware = ansatz.assign_parameters(best_res_hardware.x)\n",
    "# Add measurements to our circuit\n",
    "qc_hardware.measure_all()"
   ]
  },
  {
   "cell_type": "code",
   "execution_count": null,
   "metadata": {},
   "outputs": [],
   "source": [
    "# Sample ansatz at optimal parameters\n",
    "samp_dist = sampler.run(qc, shots=int(1e2), job_tags = [\"HACKA04\"]).result().quasi_dists[0]\n",
    "# Close the session since we are now done with it\n",
    "session.close()"
   ]
  },
  {
   "cell_type": "code",
   "execution_count": null,
   "metadata": {},
   "outputs": [],
   "source": [
    "plot_distribution(samp_dist.binary_probabilities(), figsize=(15, 5))"
   ]
  },
  {
   "cell_type": "code",
   "execution_count": null,
   "metadata": {},
   "outputs": [],
   "source": [
    "from operator import itemgetter\n",
    "\n",
    "binary_probs = samp_dist.binary_probabilities()\n",
    "max_prob_key = max(binary_probs.items(), key=itemgetter(1))[0]\n",
    "max_prob_key_invertida = max_prob_key[::-1]\n",
    "\n",
    "print(\"O valor mais frequente nas estatísticas é:\", max_prob_key_invertida)\n",
    "\n",
    "vetor_resposta = [int(bit) for bit in max_prob_key_invertida]\n",
    "vetor_resposta\n",
    "variaveis_resposta = np.array(vetor_resposta)\n",
    "\n",
    "gera_relatorio(seed, variaveis_resposta=variaveis_resposta)"
   ]
  },
  {
   "cell_type": "markdown",
   "metadata": {},
   "source": [
    "### VQE"
   ]
  },
  {
   "cell_type": "code",
   "execution_count": null,
   "metadata": {},
   "outputs": [],
   "source": [
    "ansatz = TwoLocal(num_qubits=6,\n",
    "                  rotation_blocks=[\"ry\"],\n",
    "                  entanglement_blocks=\"cz\",\n",
    "                  entanglement=\"full\",\n",
    "                  reps=1,\n",
    "                  skip_final_rotation_layer=False)\n",
    "\n",
    "ansatz.draw(output=\"mpl\", style=\"clifford\")"
   ]
  },
  {
   "cell_type": "code",
   "execution_count": null,
   "metadata": {},
   "outputs": [],
   "source": [
    "ansatz.decompose().draw(output=\"mpl\", style=\"clifford\")"
   ]
  },
  {
   "cell_type": "code",
   "execution_count": null,
   "metadata": {},
   "outputs": [],
   "source": [
    "ansatz.decompose().count_ops()"
   ]
  },
  {
   "cell_type": "code",
   "execution_count": null,
   "metadata": {},
   "outputs": [],
   "source": [
    "ansatz.decompose().depth()"
   ]
  },
  {
   "cell_type": "code",
   "execution_count": null,
   "metadata": {},
   "outputs": [],
   "source": [
    "# VQE\n",
    "# Converte o QUBO para Ising Hamiltoniano\n",
    "qubitOp, offset = qubo.to_ising()\n",
    "print(\"Offset:\", offset)\n",
    "print(\"Ising Hamiltonian:\")\n",
    "print(str(qubitOp))\n",
    "\n",
    "\"\"\"# Rodando o VQE\"\"\"\n",
    "\n",
    "initial_point = [1 for _ in range(12)]\n",
    "\n",
    "vqe_solver = VQE(estimator=estimator,\n",
    "                     ansatz=ansatz,\n",
    "                     optimizer=COBYLA(maxiter=200),\n",
    "                     initial_point=initial_point)\n",
    "\n",
    "resultado_vqe = vqe_solver.compute_minimum_eigenvalue(qubo.to_ising()[0])\n",
    "\n",
    "ansatz = ansatz.decompose().assign_parameters(resultado_vqe.optimal_parameters)\n",
    "ansatz.measure_all()\n",
    "counts = AerSimulator().run(ansatz, shots=8192).result().get_counts()"
   ]
  },
  {
   "cell_type": "code",
   "execution_count": null,
   "metadata": {},
   "outputs": [],
   "source": [
    "plot_histogram(counts, figsize=(25, 5))"
   ]
  },
  {
   "cell_type": "code",
   "execution_count": null,
   "metadata": {},
   "outputs": [],
   "source": [
    "counts_list = list(counts.values())\n",
    "max_counts = max(counts_list)\n",
    "max_count_idx = counts_list.index(max_counts)"
   ]
  },
  {
   "cell_type": "code",
   "execution_count": null,
   "metadata": {},
   "outputs": [],
   "source": [
    "answer_vqe = list(counts.keys())[max_count_idx][::-1]\n",
    "answer_vqe = np.array([int(char) for char in answer_vqe])\n",
    "print(answer_vqe)"
   ]
  },
  {
   "cell_type": "code",
   "execution_count": null,
   "metadata": {
    "scrolled": true
   },
   "outputs": [],
   "source": [
    "variaveis_resposta = np.array(answer_vqe)\n",
    "gera_relatorio(seed, variaveis_resposta=variaveis_resposta)"
   ]
  },
  {
   "cell_type": "code",
   "execution_count": null,
   "metadata": {},
   "outputs": [],
   "source": []
  },
  {
   "cell_type": "markdown",
   "metadata": {},
   "source": [
    "## Seed: 71 (Difícil)"
   ]
  },
  {
   "cell_type": "code",
   "execution_count": null,
   "metadata": {},
   "outputs": [],
   "source": [
    "# desenvolva seu código abaixo\n",
    "seed = 71\n",
    "\n",
    "qubo = carrega_problema_qubo(seed)\n",
    "\n",
    "service1 = QiskitRuntimeService(instance=f\"itau-unibanco/batalha-de-quant/{project}\")\n",
    "backend1 = service.backend(\"ibmq_qasm_simulator\")"
   ]
  },
  {
   "cell_type": "code",
   "execution_count": null,
   "metadata": {},
   "outputs": [],
   "source": [
    "# QAOA \n",
    "from qiskit.quantum_info import Pauli\n",
    "from qiskit import QuantumCircuit\n",
    "\n",
    "def create_initial_state_circuit(n_qubits):\n",
    "    \"\"\"\n",
    "    Cria um circuito quântico para o estado inicial |+⟩^⨁n_qubits.\n",
    "    \n",
    "    Parameters:\n",
    "        n_qubits (int): Número de qubits no circuito.\n",
    "\n",
    "    Returns:\n",
    "        QuantumCircuit: Circuito quântico do estado inicial.\n",
    "    \"\"\"\n",
    "    initial_state_circuit = QuantumCircuit(n_qubits)\n",
    "    initial_state_circuit.h(range(n_qubits))\n",
    "    return initial_state_circuit\n",
    "\n",
    "\n",
    "def create_xy_mixer_circuit(n_qubits, gamma):\n",
    "    \"\"\"\n",
    "    Cria um circuito quântico para o mixer XY com o parâmetro de mistura gamma.\n",
    "\n",
    "    Parameters:\n",
    "        n_qubits (int): Número de qubits no circuito.\n",
    "        gamma (float): Parâmetro de mistura para o mixer XY.\n",
    "\n",
    "    Returns:\n",
    "        QuantumCircuit: Circuito quântico do mixer XY.\n",
    "    \"\"\"\n",
    "    mixer_circuit = QuantumCircuit(n_qubits)\n",
    "    \n",
    "    # Aplicar operadores XY para cada par de qubits adjacentes\n",
    "    for qubit in range(n_qubits - 1):\n",
    "        mixer_circuit.rx(-gamma, qubit)\n",
    "        mixer_circuit.ry(-gamma, qubit)\n",
    "        mixer_circuit.cx(qubit, qubit + 1)\n",
    "        mixer_circuit.rx(gamma, qubit + 1)\n",
    "        mixer_circuit.ry(gamma, qubit + 1)\n",
    "        mixer_circuit.cx(qubit, qubit + 1)\n",
    "    \n",
    "    return mixer_circuit\n",
    "\n",
    "def create_dicke_state_circuit(num_qubits, num_ones):\n",
    "    circuit = QuantumCircuit(num_qubits)\n",
    "    \n",
    "    # Apply Hadamard gates to all qubits\n",
    "    for qubit in range(num_qubits):\n",
    "        circuit.h(qubit)\n",
    "    \n",
    "    # Apply X gates to set specific qubits to |1⟩\n",
    "    ones_indices = [0, 2, 4]  # Replace with the indices where you want |1⟩\n",
    "    for index in ones_indices:\n",
    "        circuit.x(index)\n",
    "    \n",
    "    return circuit\n",
    "\n",
    "num_qubits = 6"
   ]
  },
  {
   "cell_type": "code",
   "execution_count": null,
   "metadata": {},
   "outputs": [],
   "source": [
    "# Converte o QUBO para Ising Hamiltoniano\n",
    "# Problem to Hamiltonian operator\n",
    "gamma = 1\n",
    "\n",
    "qubitOp, offset = qubo.to_ising()\n",
    "print(\"Offset:\", offset)\n",
    "print(\"Ising Hamiltonian:\")\n",
    "print(str(qubitOp))\n",
    "\n",
    "# QAOA ansatz circuit\n",
    "# mixer está dando erro\n",
    "    # possível solução: compatibilizar com os parametros iniciais\n",
    "ansatz = QAOAAnsatz(qubitOp, reps=2, mixer_operator = create_xy_mixer_circuit(num_qubits, gamma), initial_state=create_dicke_state_circuit(6, 3))\n",
    "# Draw\n",
    "ansatz.decompose(reps=3).draw(output=\"mpl\")\n",
    "\n",
    "ansatz.decompose().draw(\"mpl\")"
   ]
  },
  {
   "cell_type": "code",
   "execution_count": null,
   "metadata": {},
   "outputs": [],
   "source": [
    "def cost_func(params, ansatz, hamiltonian, estimator):\n",
    "    \"\"\"Return estimate of energy from estimator\n",
    "\n",
    "    Parameters:\n",
    "        params (ndarray): Array of ansatz parameters\n",
    "        ansatz (QuantumCircuit): Parameterized ansatz circuit\n",
    "        hamiltonian (SparsePauliOp): Operator representation of Hamiltonian\n",
    "        estimator (Estimator): Estimator primitive instance\n",
    "\n",
    "    Returns:\n",
    "        float: Energy estimate\n",
    "    \"\"\"\n",
    "    cost = estimator.run(ansatz, hamiltonian, parameter_values=params, job_tags = [\"HACKA04\"]).result().values[0]\n",
    "    return cost"
   ]
  },
  {
   "cell_type": "code",
   "execution_count": null,
   "metadata": {},
   "outputs": [],
   "source": [
    "x0 = 2 * np.pi * np.random.rand(ansatz.num_parameters)\n",
    "x0"
   ]
  },
  {
   "cell_type": "code",
   "execution_count": null,
   "metadata": {},
   "outputs": [],
   "source": [
    "import time\n",
    "\n",
    "fun_values = []\n",
    "menor_energia = 9999\n",
    "maior_energia = -9999\n",
    "epocas = 30\n",
    "\n",
    "start_time = time.time()\n",
    "for epoca in range(epocas):\n",
    "    res = scipy.optimize.minimize(cost_func, x0, args=(ansatz, qubitOp, estimator), method=\"COBYLA\")\n",
    "    x0 = res.x\n",
    "    fun_values.append(res.fun)\n",
    "    if(res.fun < menor_energia):\n",
    "        menor_energia = res.fun\n",
    "        best_res = res\n",
    "        \n",
    "    if(res.fun > maior_energia):\n",
    "        maior_energia = res.fun\n",
    "        \n",
    "end_time = time.time()\n",
    "\n",
    "print(f\"Execution time: {end_time-start_time} seconds\")\n",
    "print(f\"Variation cost (greater energy - least energy): {maior_energia - menor_energia}\")\n",
    "    \n",
    "plt.plot(np.arange(1, epocas+1), fun_values, marker='o')\n",
    "plt.title('Valores de res.fun em cada iteração')\n",
    "plt.xlabel('Iteração')\n",
    "plt.ylabel('res.fun')\n",
    "plt.show()"
   ]
  },
  {
   "cell_type": "code",
   "execution_count": null,
   "metadata": {},
   "outputs": [],
   "source": [
    "best_res"
   ]
  },
  {
   "cell_type": "code",
   "execution_count": null,
   "metadata": {},
   "outputs": [],
   "source": [
    "# Assign solution parameters to ansatz\n",
    "qc = ansatz.assign_parameters(best_res.x)\n",
    "# Add measurements to our circuit\n",
    "qc.measure_all()"
   ]
  },
  {
   "cell_type": "code",
   "execution_count": null,
   "metadata": {},
   "outputs": [],
   "source": [
    "# Sample ansatz at optimal parameters\n",
    "samp_dist = sampler.run(qc, shots=int(1e2)).result().quasi_dists[0]"
   ]
  },
  {
   "cell_type": "code",
   "execution_count": null,
   "metadata": {},
   "outputs": [],
   "source": [
    "plot_distribution(samp_dist.binary_probabilities(), figsize=(15, 5))"
   ]
  },
  {
   "cell_type": "code",
   "execution_count": null,
   "metadata": {},
   "outputs": [],
   "source": [
    "from operator import itemgetter\n",
    "\n",
    "binary_probs = samp_dist.binary_probabilities()\n",
    "max_prob_key = max(binary_probs.items(), key=itemgetter(1))[0]\n",
    "max_prob_key_invertida = max_prob_key[::-1]\n",
    "\n",
    "print(\"O valor mais frequente nas estatísticas é:\", max_prob_key_invertida)\n",
    "\n",
    "vetor_resposta = [int(bit) for bit in max_prob_key_invertida]\n",
    "vetor_resposta\n",
    "variaveis_resposta = np.array(vetor_resposta)\n",
    "\n",
    "gera_relatorio(seed, variaveis_resposta=variaveis_resposta)"
   ]
  },
  {
   "cell_type": "code",
   "execution_count": null,
   "metadata": {},
   "outputs": [],
   "source": [
    "from qiskit_ibm_provider import least_busy\n",
    "\n",
    "devices = provider.backends(simulator=False, operational=True)\n",
    "backend_least_busy = least_busy(devices)\n",
    "\n",
    "display(backend_least_busy.status())\n",
    "\n",
    "# Sample ansatz at optimal parameters\n",
    "options = Options()\n",
    "options.transpilation.skip_transpilation = True\n",
    "options.execution.shots = 542\n",
    "\n",
    "session = Session(backend=backend_least_busy.name)\n",
    "\n",
    "estimatorHardware = Estimator(session=session, options={\"shots\": int(1e2)})"
   ]
  },
  {
   "cell_type": "code",
   "execution_count": null,
   "metadata": {},
   "outputs": [],
   "source": [
    "x0 = best_res.x\n",
    "x0"
   ]
  },
  {
   "cell_type": "code",
   "execution_count": null,
   "metadata": {},
   "outputs": [],
   "source": [
    "import time\n",
    "\n",
    "fun_values = []\n",
    "menor_energia = 9999\n",
    "maior_energia = -9999\n",
    "epocas = 1\n",
    "\n",
    "start_time = time.time()\n",
    "for epoca in range(epocas):\n",
    "    res = scipy.optimize.minimize(cost_func, x0, args=(ansatz, qubitOp, estimatorHardware), method=\"COBYLA\")\n",
    "    x0 = res.x\n",
    "    fun_values.append(res.fun)\n",
    "    if(res.fun < menor_energia):\n",
    "        menor_energia = res.fun\n",
    "        best_res_hardware = res\n",
    "        \n",
    "    if(res.fun > maior_energia):\n",
    "        maior_energia = res.fun\n",
    "        \n",
    "end_time = time.time()\n",
    "\n",
    "print(f\"Execution time: {end_time-start_time} seconds\")\n",
    "print(f\"Variation cost (greater energy - least energy): {maior_energia - menor_energia}\")\n",
    "    \n",
    "plt.plot(np.arange(1, epocas+1), fun_values, marker='o')\n",
    "plt.title('Valores de res.fun em cada iteração')\n",
    "plt.xlabel('Iteração')\n",
    "plt.ylabel('res.fun')\n",
    "plt.show()"
   ]
  },
  {
   "cell_type": "code",
   "execution_count": null,
   "metadata": {},
   "outputs": [],
   "source": [
    "best_res_hardware"
   ]
  },
  {
   "cell_type": "code",
   "execution_count": null,
   "metadata": {},
   "outputs": [],
   "source": [
    "# Assign solution parameters to ansatz\n",
    "qc_hardware = ansatz.assign_parameters(best_res_hardware.x)\n",
    "# Add measurements to our circuit\n",
    "qc_hardware.measure_all()"
   ]
  },
  {
   "cell_type": "code",
   "execution_count": null,
   "metadata": {},
   "outputs": [],
   "source": [
    "# Sample ansatz at optimal parameters\n",
    "samp_dist = sampler.run(qc, shots=int(1e2), job_tags = [\"HACKA04\"]).result().quasi_dists[0]\n",
    "# Close the session since we are now done with it\n",
    "session.close()"
   ]
  },
  {
   "cell_type": "code",
   "execution_count": null,
   "metadata": {},
   "outputs": [],
   "source": [
    "plot_distribution(samp_dist.binary_probabilities(), figsize=(15, 5))"
   ]
  },
  {
   "cell_type": "code",
   "execution_count": null,
   "metadata": {},
   "outputs": [],
   "source": [
    "from operator import itemgetter\n",
    "\n",
    "binary_probs = samp_dist.binary_probabilities()\n",
    "max_prob_key = max(binary_probs.items(), key=itemgetter(1))[0]\n",
    "max_prob_key_invertida = max_prob_key[::-1]\n",
    "\n",
    "print(\"O valor mais frequente nas estatísticas é:\", max_prob_key_invertida)\n",
    "\n",
    "vetor_resposta = [int(bit) for bit in max_prob_key_invertida]\n",
    "vetor_resposta\n",
    "variaveis_resposta = np.array(vetor_resposta)\n",
    "\n",
    "gera_relatorio(seed, variaveis_resposta=variaveis_resposta)"
   ]
  },
  {
   "cell_type": "markdown",
   "metadata": {},
   "source": [
    "### VQE ###"
   ]
  },
  {
   "cell_type": "code",
   "execution_count": null,
   "metadata": {},
   "outputs": [],
   "source": [
    "ansatz = TwoLocal(num_qubits=6,\n",
    "                  rotation_blocks=[\"ry\"],\n",
    "                  entanglement_blocks=\"cz\",\n",
    "                  entanglement=\"full\",\n",
    "                  reps=1,\n",
    "                  skip_final_rotation_layer=False)\n",
    "\n",
    "ansatz.draw(output=\"mpl\", style=\"clifford\")"
   ]
  },
  {
   "cell_type": "code",
   "execution_count": null,
   "metadata": {},
   "outputs": [],
   "source": [
    "ansatz.decompose().draw(output=\"mpl\", style=\"clifford\")"
   ]
  },
  {
   "cell_type": "code",
   "execution_count": null,
   "metadata": {},
   "outputs": [],
   "source": [
    "ansatz.decompose().count_ops()"
   ]
  },
  {
   "cell_type": "code",
   "execution_count": null,
   "metadata": {},
   "outputs": [],
   "source": [
    "ansatz.decompose().depth()"
   ]
  },
  {
   "cell_type": "code",
   "execution_count": 5,
   "metadata": {},
   "outputs": [
    {
     "ename": "NameError",
     "evalue": "name 'qubo' is not defined",
     "output_type": "error",
     "traceback": [
      "\u001b[0;31m---------------------------------------------------------------------------\u001b[0m",
      "\u001b[0;31mNameError\u001b[0m                                 Traceback (most recent call last)",
      "Cell \u001b[0;32mIn[5], line 3\u001b[0m\n\u001b[1;32m      1\u001b[0m \u001b[38;5;66;03m# VQE\u001b[39;00m\n\u001b[1;32m      2\u001b[0m \u001b[38;5;66;03m# Converte o QUBO para Ising Hamiltoniano\u001b[39;00m\n\u001b[0;32m----> 3\u001b[0m qubitOp, offset \u001b[38;5;241m=\u001b[39m qubo\u001b[38;5;241m.\u001b[39mto_ising()\n\u001b[1;32m      4\u001b[0m \u001b[38;5;28mprint\u001b[39m(\u001b[38;5;124m\"\u001b[39m\u001b[38;5;124mOffset:\u001b[39m\u001b[38;5;124m\"\u001b[39m, offset)\n\u001b[1;32m      5\u001b[0m \u001b[38;5;28mprint\u001b[39m(\u001b[38;5;124m\"\u001b[39m\u001b[38;5;124mIsing Hamiltonian:\u001b[39m\u001b[38;5;124m\"\u001b[39m)\n",
      "\u001b[0;31mNameError\u001b[0m: name 'qubo' is not defined"
     ]
    }
   ],
   "source": [
    "# VQE\n",
    "# Converte o QUBO para Ising Hamiltoniano\n",
    "qubitOp, offset = qubo.to_ising()\n",
    "print(\"Offset:\", offset)\n",
    "print(\"Ising Hamiltonian:\")\n",
    "print(str(qubitOp))\n",
    "\n",
    "\"\"\"# Rodando o VQE\"\"\"\n",
    "\n",
    "initial_point = [1 for _ in range(12)]\n",
    "\n",
    "vqe_solver = VQE(estimator=estimator,\n",
    "                     ansatz=ansatz,\n",
    "                     optimizer=COBYLA(maxiter=200),\n",
    "                     initial_point=initial_point)\n",
    "\n",
    "resultado_vqe = vqe_solver.compute_minimum_eigenvalue(qubo.to_ising()[0])\n",
    "\n",
    "ansatz = ansatz.decompose().assign_parameters(resultado_vqe.optimal_parameters)\n",
    "ansatz.measure_all()\n",
    "counts = AerSimulator().run(ansatz, shots=8192).result().get_counts()"
   ]
  },
  {
   "cell_type": "code",
   "execution_count": null,
   "metadata": {},
   "outputs": [],
   "source": [
    "plot_histogram(counts, figsize=(25, 5))"
   ]
  },
  {
   "cell_type": "code",
   "execution_count": null,
   "metadata": {},
   "outputs": [],
   "source": [
    "counts_list = list(counts.values())\n",
    "max_counts = max(counts_list)\n",
    "max_count_idx = counts_list.index(max_counts)"
   ]
  },
  {
   "cell_type": "code",
   "execution_count": null,
   "metadata": {},
   "outputs": [],
   "source": [
    "answer_vqe = list(counts.keys())[max_count_idx][::-1]\n",
    "answer_vqe = np.array([int(char) for char in answer_vqe])\n",
    "print(answer_vqe)"
   ]
  },
  {
   "cell_type": "code",
   "execution_count": null,
   "metadata": {
    "scrolled": true
   },
   "outputs": [],
   "source": [
    "variaveis_resposta = np.array(answer_vqe)\n",
    "gera_relatorio(seed, variaveis_resposta=variaveis_resposta)"
   ]
  },
  {
   "cell_type": "code",
   "execution_count": null,
   "metadata": {},
   "outputs": [],
   "source": []
  },
  {
   "cell_type": "markdown",
   "metadata": {},
   "source": [
    "![image](figuras/itau-quantum-logo.png)"
   ]
  }
 ],
 "metadata": {
  "availableInstances": [
   {
    "_defaultOrder": 0,
    "_isFastLaunch": true,
    "category": "General purpose",
    "gpuNum": 0,
    "hideHardwareSpecs": false,
    "memoryGiB": 4,
    "name": "ml.t3.medium",
    "vcpuNum": 2
   },
   {
    "_defaultOrder": 1,
    "_isFastLaunch": false,
    "category": "General purpose",
    "gpuNum": 0,
    "hideHardwareSpecs": false,
    "memoryGiB": 8,
    "name": "ml.t3.large",
    "vcpuNum": 2
   },
   {
    "_defaultOrder": 2,
    "_isFastLaunch": false,
    "category": "General purpose",
    "gpuNum": 0,
    "hideHardwareSpecs": false,
    "memoryGiB": 16,
    "name": "ml.t3.xlarge",
    "vcpuNum": 4
   },
   {
    "_defaultOrder": 3,
    "_isFastLaunch": false,
    "category": "General purpose",
    "gpuNum": 0,
    "hideHardwareSpecs": false,
    "memoryGiB": 32,
    "name": "ml.t3.2xlarge",
    "vcpuNum": 8
   },
   {
    "_defaultOrder": 4,
    "_isFastLaunch": true,
    "category": "General purpose",
    "gpuNum": 0,
    "hideHardwareSpecs": false,
    "memoryGiB": 8,
    "name": "ml.m5.large",
    "vcpuNum": 2
   },
   {
    "_defaultOrder": 5,
    "_isFastLaunch": false,
    "category": "General purpose",
    "gpuNum": 0,
    "hideHardwareSpecs": false,
    "memoryGiB": 16,
    "name": "ml.m5.xlarge",
    "vcpuNum": 4
   },
   {
    "_defaultOrder": 6,
    "_isFastLaunch": false,
    "category": "General purpose",
    "gpuNum": 0,
    "hideHardwareSpecs": false,
    "memoryGiB": 32,
    "name": "ml.m5.2xlarge",
    "vcpuNum": 8
   },
   {
    "_defaultOrder": 7,
    "_isFastLaunch": false,
    "category": "General purpose",
    "gpuNum": 0,
    "hideHardwareSpecs": false,
    "memoryGiB": 64,
    "name": "ml.m5.4xlarge",
    "vcpuNum": 16
   },
   {
    "_defaultOrder": 8,
    "_isFastLaunch": false,
    "category": "General purpose",
    "gpuNum": 0,
    "hideHardwareSpecs": false,
    "memoryGiB": 128,
    "name": "ml.m5.8xlarge",
    "vcpuNum": 32
   },
   {
    "_defaultOrder": 9,
    "_isFastLaunch": false,
    "category": "General purpose",
    "gpuNum": 0,
    "hideHardwareSpecs": false,
    "memoryGiB": 192,
    "name": "ml.m5.12xlarge",
    "vcpuNum": 48
   },
   {
    "_defaultOrder": 10,
    "_isFastLaunch": false,
    "category": "General purpose",
    "gpuNum": 0,
    "hideHardwareSpecs": false,
    "memoryGiB": 256,
    "name": "ml.m5.16xlarge",
    "vcpuNum": 64
   },
   {
    "_defaultOrder": 11,
    "_isFastLaunch": false,
    "category": "General purpose",
    "gpuNum": 0,
    "hideHardwareSpecs": false,
    "memoryGiB": 384,
    "name": "ml.m5.24xlarge",
    "vcpuNum": 96
   },
   {
    "_defaultOrder": 12,
    "_isFastLaunch": false,
    "category": "General purpose",
    "gpuNum": 0,
    "hideHardwareSpecs": false,
    "memoryGiB": 8,
    "name": "ml.m5d.large",
    "vcpuNum": 2
   },
   {
    "_defaultOrder": 13,
    "_isFastLaunch": false,
    "category": "General purpose",
    "gpuNum": 0,
    "hideHardwareSpecs": false,
    "memoryGiB": 16,
    "name": "ml.m5d.xlarge",
    "vcpuNum": 4
   },
   {
    "_defaultOrder": 14,
    "_isFastLaunch": false,
    "category": "General purpose",
    "gpuNum": 0,
    "hideHardwareSpecs": false,
    "memoryGiB": 32,
    "name": "ml.m5d.2xlarge",
    "vcpuNum": 8
   },
   {
    "_defaultOrder": 15,
    "_isFastLaunch": false,
    "category": "General purpose",
    "gpuNum": 0,
    "hideHardwareSpecs": false,
    "memoryGiB": 64,
    "name": "ml.m5d.4xlarge",
    "vcpuNum": 16
   },
   {
    "_defaultOrder": 16,
    "_isFastLaunch": false,
    "category": "General purpose",
    "gpuNum": 0,
    "hideHardwareSpecs": false,
    "memoryGiB": 128,
    "name": "ml.m5d.8xlarge",
    "vcpuNum": 32
   },
   {
    "_defaultOrder": 17,
    "_isFastLaunch": false,
    "category": "General purpose",
    "gpuNum": 0,
    "hideHardwareSpecs": false,
    "memoryGiB": 192,
    "name": "ml.m5d.12xlarge",
    "vcpuNum": 48
   },
   {
    "_defaultOrder": 18,
    "_isFastLaunch": false,
    "category": "General purpose",
    "gpuNum": 0,
    "hideHardwareSpecs": false,
    "memoryGiB": 256,
    "name": "ml.m5d.16xlarge",
    "vcpuNum": 64
   },
   {
    "_defaultOrder": 19,
    "_isFastLaunch": false,
    "category": "General purpose",
    "gpuNum": 0,
    "hideHardwareSpecs": false,
    "memoryGiB": 384,
    "name": "ml.m5d.24xlarge",
    "vcpuNum": 96
   },
   {
    "_defaultOrder": 20,
    "_isFastLaunch": false,
    "category": "General purpose",
    "gpuNum": 0,
    "hideHardwareSpecs": true,
    "memoryGiB": 0,
    "name": "ml.geospatial.interactive",
    "supportedImageNames": [
     "sagemaker-geospatial-v1-0"
    ],
    "vcpuNum": 0
   },
   {
    "_defaultOrder": 21,
    "_isFastLaunch": true,
    "category": "Compute optimized",
    "gpuNum": 0,
    "hideHardwareSpecs": false,
    "memoryGiB": 4,
    "name": "ml.c5.large",
    "vcpuNum": 2
   },
   {
    "_defaultOrder": 22,
    "_isFastLaunch": false,
    "category": "Compute optimized",
    "gpuNum": 0,
    "hideHardwareSpecs": false,
    "memoryGiB": 8,
    "name": "ml.c5.xlarge",
    "vcpuNum": 4
   },
   {
    "_defaultOrder": 23,
    "_isFastLaunch": false,
    "category": "Compute optimized",
    "gpuNum": 0,
    "hideHardwareSpecs": false,
    "memoryGiB": 16,
    "name": "ml.c5.2xlarge",
    "vcpuNum": 8
   },
   {
    "_defaultOrder": 24,
    "_isFastLaunch": false,
    "category": "Compute optimized",
    "gpuNum": 0,
    "hideHardwareSpecs": false,
    "memoryGiB": 32,
    "name": "ml.c5.4xlarge",
    "vcpuNum": 16
   },
   {
    "_defaultOrder": 25,
    "_isFastLaunch": false,
    "category": "Compute optimized",
    "gpuNum": 0,
    "hideHardwareSpecs": false,
    "memoryGiB": 72,
    "name": "ml.c5.9xlarge",
    "vcpuNum": 36
   },
   {
    "_defaultOrder": 26,
    "_isFastLaunch": false,
    "category": "Compute optimized",
    "gpuNum": 0,
    "hideHardwareSpecs": false,
    "memoryGiB": 96,
    "name": "ml.c5.12xlarge",
    "vcpuNum": 48
   },
   {
    "_defaultOrder": 27,
    "_isFastLaunch": false,
    "category": "Compute optimized",
    "gpuNum": 0,
    "hideHardwareSpecs": false,
    "memoryGiB": 144,
    "name": "ml.c5.18xlarge",
    "vcpuNum": 72
   },
   {
    "_defaultOrder": 28,
    "_isFastLaunch": false,
    "category": "Compute optimized",
    "gpuNum": 0,
    "hideHardwareSpecs": false,
    "memoryGiB": 192,
    "name": "ml.c5.24xlarge",
    "vcpuNum": 96
   },
   {
    "_defaultOrder": 29,
    "_isFastLaunch": true,
    "category": "Accelerated computing",
    "gpuNum": 1,
    "hideHardwareSpecs": false,
    "memoryGiB": 16,
    "name": "ml.g4dn.xlarge",
    "vcpuNum": 4
   },
   {
    "_defaultOrder": 30,
    "_isFastLaunch": false,
    "category": "Accelerated computing",
    "gpuNum": 1,
    "hideHardwareSpecs": false,
    "memoryGiB": 32,
    "name": "ml.g4dn.2xlarge",
    "vcpuNum": 8
   },
   {
    "_defaultOrder": 31,
    "_isFastLaunch": false,
    "category": "Accelerated computing",
    "gpuNum": 1,
    "hideHardwareSpecs": false,
    "memoryGiB": 64,
    "name": "ml.g4dn.4xlarge",
    "vcpuNum": 16
   },
   {
    "_defaultOrder": 32,
    "_isFastLaunch": false,
    "category": "Accelerated computing",
    "gpuNum": 1,
    "hideHardwareSpecs": false,
    "memoryGiB": 128,
    "name": "ml.g4dn.8xlarge",
    "vcpuNum": 32
   },
   {
    "_defaultOrder": 33,
    "_isFastLaunch": false,
    "category": "Accelerated computing",
    "gpuNum": 4,
    "hideHardwareSpecs": false,
    "memoryGiB": 192,
    "name": "ml.g4dn.12xlarge",
    "vcpuNum": 48
   },
   {
    "_defaultOrder": 34,
    "_isFastLaunch": false,
    "category": "Accelerated computing",
    "gpuNum": 1,
    "hideHardwareSpecs": false,
    "memoryGiB": 256,
    "name": "ml.g4dn.16xlarge",
    "vcpuNum": 64
   },
   {
    "_defaultOrder": 35,
    "_isFastLaunch": false,
    "category": "Accelerated computing",
    "gpuNum": 1,
    "hideHardwareSpecs": false,
    "memoryGiB": 61,
    "name": "ml.p3.2xlarge",
    "vcpuNum": 8
   },
   {
    "_defaultOrder": 36,
    "_isFastLaunch": false,
    "category": "Accelerated computing",
    "gpuNum": 4,
    "hideHardwareSpecs": false,
    "memoryGiB": 244,
    "name": "ml.p3.8xlarge",
    "vcpuNum": 32
   },
   {
    "_defaultOrder": 37,
    "_isFastLaunch": false,
    "category": "Accelerated computing",
    "gpuNum": 8,
    "hideHardwareSpecs": false,
    "memoryGiB": 488,
    "name": "ml.p3.16xlarge",
    "vcpuNum": 64
   },
   {
    "_defaultOrder": 38,
    "_isFastLaunch": false,
    "category": "Accelerated computing",
    "gpuNum": 8,
    "hideHardwareSpecs": false,
    "memoryGiB": 768,
    "name": "ml.p3dn.24xlarge",
    "vcpuNum": 96
   },
   {
    "_defaultOrder": 39,
    "_isFastLaunch": false,
    "category": "Memory Optimized",
    "gpuNum": 0,
    "hideHardwareSpecs": false,
    "memoryGiB": 16,
    "name": "ml.r5.large",
    "vcpuNum": 2
   },
   {
    "_defaultOrder": 40,
    "_isFastLaunch": false,
    "category": "Memory Optimized",
    "gpuNum": 0,
    "hideHardwareSpecs": false,
    "memoryGiB": 32,
    "name": "ml.r5.xlarge",
    "vcpuNum": 4
   },
   {
    "_defaultOrder": 41,
    "_isFastLaunch": false,
    "category": "Memory Optimized",
    "gpuNum": 0,
    "hideHardwareSpecs": false,
    "memoryGiB": 64,
    "name": "ml.r5.2xlarge",
    "vcpuNum": 8
   },
   {
    "_defaultOrder": 42,
    "_isFastLaunch": false,
    "category": "Memory Optimized",
    "gpuNum": 0,
    "hideHardwareSpecs": false,
    "memoryGiB": 128,
    "name": "ml.r5.4xlarge",
    "vcpuNum": 16
   },
   {
    "_defaultOrder": 43,
    "_isFastLaunch": false,
    "category": "Memory Optimized",
    "gpuNum": 0,
    "hideHardwareSpecs": false,
    "memoryGiB": 256,
    "name": "ml.r5.8xlarge",
    "vcpuNum": 32
   },
   {
    "_defaultOrder": 44,
    "_isFastLaunch": false,
    "category": "Memory Optimized",
    "gpuNum": 0,
    "hideHardwareSpecs": false,
    "memoryGiB": 384,
    "name": "ml.r5.12xlarge",
    "vcpuNum": 48
   },
   {
    "_defaultOrder": 45,
    "_isFastLaunch": false,
    "category": "Memory Optimized",
    "gpuNum": 0,
    "hideHardwareSpecs": false,
    "memoryGiB": 512,
    "name": "ml.r5.16xlarge",
    "vcpuNum": 64
   },
   {
    "_defaultOrder": 46,
    "_isFastLaunch": false,
    "category": "Memory Optimized",
    "gpuNum": 0,
    "hideHardwareSpecs": false,
    "memoryGiB": 768,
    "name": "ml.r5.24xlarge",
    "vcpuNum": 96
   },
   {
    "_defaultOrder": 47,
    "_isFastLaunch": false,
    "category": "Accelerated computing",
    "gpuNum": 1,
    "hideHardwareSpecs": false,
    "memoryGiB": 16,
    "name": "ml.g5.xlarge",
    "vcpuNum": 4
   },
   {
    "_defaultOrder": 48,
    "_isFastLaunch": false,
    "category": "Accelerated computing",
    "gpuNum": 1,
    "hideHardwareSpecs": false,
    "memoryGiB": 32,
    "name": "ml.g5.2xlarge",
    "vcpuNum": 8
   },
   {
    "_defaultOrder": 49,
    "_isFastLaunch": false,
    "category": "Accelerated computing",
    "gpuNum": 1,
    "hideHardwareSpecs": false,
    "memoryGiB": 64,
    "name": "ml.g5.4xlarge",
    "vcpuNum": 16
   },
   {
    "_defaultOrder": 50,
    "_isFastLaunch": false,
    "category": "Accelerated computing",
    "gpuNum": 1,
    "hideHardwareSpecs": false,
    "memoryGiB": 128,
    "name": "ml.g5.8xlarge",
    "vcpuNum": 32
   },
   {
    "_defaultOrder": 51,
    "_isFastLaunch": false,
    "category": "Accelerated computing",
    "gpuNum": 1,
    "hideHardwareSpecs": false,
    "memoryGiB": 256,
    "name": "ml.g5.16xlarge",
    "vcpuNum": 64
   },
   {
    "_defaultOrder": 52,
    "_isFastLaunch": false,
    "category": "Accelerated computing",
    "gpuNum": 4,
    "hideHardwareSpecs": false,
    "memoryGiB": 192,
    "name": "ml.g5.12xlarge",
    "vcpuNum": 48
   },
   {
    "_defaultOrder": 53,
    "_isFastLaunch": false,
    "category": "Accelerated computing",
    "gpuNum": 4,
    "hideHardwareSpecs": false,
    "memoryGiB": 384,
    "name": "ml.g5.24xlarge",
    "vcpuNum": 96
   },
   {
    "_defaultOrder": 54,
    "_isFastLaunch": false,
    "category": "Accelerated computing",
    "gpuNum": 8,
    "hideHardwareSpecs": false,
    "memoryGiB": 768,
    "name": "ml.g5.48xlarge",
    "vcpuNum": 192
   },
   {
    "_defaultOrder": 55,
    "_isFastLaunch": false,
    "category": "Accelerated computing",
    "gpuNum": 8,
    "hideHardwareSpecs": false,
    "memoryGiB": 1152,
    "name": "ml.p4d.24xlarge",
    "vcpuNum": 96
   },
   {
    "_defaultOrder": 56,
    "_isFastLaunch": false,
    "category": "Accelerated computing",
    "gpuNum": 8,
    "hideHardwareSpecs": false,
    "memoryGiB": 1152,
    "name": "ml.p4de.24xlarge",
    "vcpuNum": 96
   }
  ],
  "instance_type": "ml.t3.2xlarge",
  "kernelspec": {
   "display_name": "Python 3 (ipykernel)",
   "language": "python",
   "name": "python3"
  },
  "language_info": {
   "codemirror_mode": {
    "name": "ipython",
    "version": 3
   },
   "file_extension": ".py",
   "mimetype": "text/x-python",
   "name": "python",
   "nbconvert_exporter": "python",
   "pygments_lexer": "ipython3",
   "version": "3.11.8"
  },
  "lcc_arn": "arn:aws:sagemaker:sa-east-1:185368375804:studio-lifecycle-config/lcc-kernel-v6",
  "varInspector": {
   "cols": {
    "lenName": 16,
    "lenType": 16,
    "lenVar": 40
   },
   "kernels_config": {
    "python": {
     "delete_cmd_postfix": "",
     "delete_cmd_prefix": "del ",
     "library": "var_list.py",
     "varRefreshCmd": "print(var_dic_list())"
    },
    "r": {
     "delete_cmd_postfix": ") ",
     "delete_cmd_prefix": "rm(",
     "library": "var_list.r",
     "varRefreshCmd": "cat(var_dic_list()) "
    }
   },
   "types_to_exclude": [
    "module",
    "function",
    "builtin_function_or_method",
    "instance",
    "_Feature"
   ],
   "window_display": false
  }
 },
 "nbformat": 4,
 "nbformat_minor": 4
}
